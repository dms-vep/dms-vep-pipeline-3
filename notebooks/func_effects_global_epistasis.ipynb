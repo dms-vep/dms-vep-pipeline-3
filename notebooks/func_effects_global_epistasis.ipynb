{
 "cells": [
  {
   "cell_type": "markdown",
   "id": "cd032799-f956-4da8-baad-43dff0af1046",
   "metadata": {},
   "source": [
    "# Fit global epistasis models to functional scores for each selection to get mutation functional effects\n",
    "\n",
    "Import Python modules.\n",
    "We use `multidms` for the fitting:"
   ]
  },
  {
   "cell_type": "code",
   "execution_count": null,
   "id": "6653d04b-720e-4959-a8d8-006ce97190b6",
   "metadata": {},
   "outputs": [],
   "source": [
    "import dms_variants.codonvarianttable\n",
    "\n",
    "import matplotlib.pyplot as plt\n",
    "\n",
    "import multidms\n",
    "\n",
    "import numpy\n",
    "\n",
    "import pandas as pd"
   ]
  },
  {
   "cell_type": "markdown",
   "id": "0276731c-0a6f-4820-9edb-b61ab1e2ace8",
   "metadata": {},
   "source": [
    "This notebook is parameterized by `papermill`.\n",
    "The next cell is tagged as `parameters` to get the passed parameters."
   ]
  },
  {
   "cell_type": "code",
   "execution_count": null,
   "id": "9ddd6a5a-5e55-4386-872b-ad9ce2af3d19",
   "metadata": {
    "editable": true,
    "slideshow": {
     "slide_type": ""
    },
    "tags": [
     "parameters"
    ]
   },
   "outputs": [],
   "source": [
    "# this cell is tagged parameters for `papermill` parameterization\n",
    "selection = None\n",
    "func_scores = None\n",
    "func_effects = None\n",
    "global_epistasis_params = None\n",
    "threads = None"
   ]
  },
  {
   "cell_type": "markdown",
   "id": "614d381c-9100-4248-8a56-bb6d8bb15789",
   "metadata": {},
   "source": [
    "Read and clip functional scores:"
   ]
  },
  {
   "cell_type": "code",
   "execution_count": null,
   "id": "a2a93f3e-46f7-4a62-b10b-d1bc7fe1a30f",
   "metadata": {},
   "outputs": [],
   "source": [
    "func_scores_df = (\n",
    "    pd.read_csv(func_scores, na_filter=None)\n",
    "    .assign(condition=selection)\n",
    "    .pipe(dms_variants.codonvarianttable.CodonVariantTable.classifyVariants)\n",
    ")\n",
    "\n",
    "median_stop = func_scores_df.query(\"variant_class == 'stop'\")[\"func_score\"].median()\n",
    "\n",
    "for bound in [\"upper\", \"lower\"]:\n",
    "    clip = global_epistasis_params[f\"clip_{bound}\"]\n",
    "    if clip is None:\n",
    "        print(f\"No clipping on {bound} bound of functional scores\")\n",
    "    else:\n",
    "        if clip == \"median_stop\":\n",
    "            if pd.isnull(median_stop):\n",
    "                raise ValueError(f\"{median_stop=}\")\n",
    "            clip = median_stop\n",
    "        assert isinstance(clip, (int, float)), clip\n",
    "        print(f\"Clipping {bound} bound of functional scores to {clip}\")\n",
    "        func_scores_df[\"func_score\"] = func_scores_df[\"func_score\"].clip(\n",
    "            **{bound: clip}\n",
    "        )"
   ]
  },
  {
   "cell_type": "markdown",
   "id": "e49b2327-cf48-4dbd-9788-a89a61f072fe",
   "metadata": {},
   "source": [
    "Initialize the data for `multidms`:"
   ]
  },
  {
   "cell_type": "code",
   "execution_count": null,
   "id": "cab4c4b4-220f-4163-8d69-1bfaa92d360f",
   "metadata": {},
   "outputs": [],
   "source": [
    "data = multidms.MultiDmsData(\n",
    "    variants_df=func_scores_df,\n",
    "    reference=selection,\n",
    "    alphabet=multidms.AAS_WITHSTOP_WITHGAP,\n",
    "    collapse_identical_variants=global_epistasis_params[\"collapse_identical_variants\"],\n",
    "    letter_suffixed_sites=True,\n",
    "    verbose=True,\n",
    "    nb_workers=threads,\n",
    ")"
   ]
  },
  {
   "cell_type": "markdown",
   "id": "56950b43-89da-4661-a925-3685c3a943a8",
   "metadata": {},
   "source": [
    "Now initialize the `multidms` model and fit it:"
   ]
  },
  {
   "cell_type": "code",
   "execution_count": null,
   "id": "bd05a910-e212-49e8-b1e8-343ea405567b",
   "metadata": {},
   "outputs": [],
   "source": [
    "# initialize with default params, which give sigmoid global epistasis function\n",
    "model = multidms.MultiDmsModel(data)\n",
    "\n",
    "model.fit()"
   ]
  },
  {
   "cell_type": "markdown",
   "id": "946007e7-51e4-486a-b497-60871c1b0776",
   "metadata": {},
   "source": [
    "Look at accuracy of predictionss and the global epistasis fit:"
   ]
  },
  {
   "cell_type": "code",
   "execution_count": null,
   "id": "f489280a-0f99-4782-9fcd-01c071255cd5",
   "metadata": {},
   "outputs": [],
   "source": [
    "fig, ax = plt.subplots(1, 2, figsize=[8, 4])\n",
    "model.plot_epistasis(ax=ax[1], alpha=0.1, show=False, legend=False)\n",
    "model.plot_pred_accuracy(ax=ax[0], alpha=0.1, show=False, legend=False)\n",
    "ax[1].set_title(\"Global epistasis fit\")\n",
    "ax[0].set_title(\"Training set accuracy\")\n",
    "plt.show()"
   ]
  },
  {
   "cell_type": "markdown",
   "id": "5d106ebe-0540-4a8f-83fa-c90b56ef1ebc",
   "metadata": {},
   "source": [
    "Plot the distribution of latent phenotype functional scores with a few different cutoffs on `times_seen` (the number of variants in which a mutaiton is seen):"
   ]
  },
  {
   "cell_type": "code",
   "execution_count": null,
   "id": "0c0cc7ec-d874-4cc0-ab2b-04e9a94ce940",
   "metadata": {},
   "outputs": [],
   "source": [
    "fig, axes = plt.subplots(3, 1, figsize=[7, 8])\n",
    "for times_seen, ax in zip([1, 3, 5], axes):\n",
    "    model.plot_param_hist(\"β\", ax=ax, show=False, times_seen_threshold=times_seen)\n",
    "    ax.legend()\n",
    "    ax.set_title(\n",
    "        f\"Latent-phenotype effects of mutations with times_seen >= {times_seen}\"\n",
    "    )\n",
    "plt.tight_layout()\n",
    "plt.show()"
   ]
  },
  {
   "cell_type": "markdown",
   "id": "0c329339-a135-47e0-8780-78870e358df0",
   "metadata": {
    "execution": {
     "iopub.execute_input": "2023-07-10T10:42:28.100776Z",
     "iopub.status.busy": "2023-07-10T10:42:28.100457Z",
     "iopub.status.idle": "2023-07-10T10:42:28.109737Z",
     "shell.execute_reply": "2023-07-10T10:42:28.109042Z",
     "shell.execute_reply.started": "2023-07-10T10:42:28.100758Z"
    }
   },
   "source": [
    "Compute the effect of the mutation on the observed phenotype of the functional score, which we simply call the \"functional effect\" of the mutation:"
   ]
  },
  {
   "cell_type": "code",
   "execution_count": null,
   "id": "020262ea-ded7-4579-a023-25dbb4a59ce8",
   "metadata": {},
   "outputs": [],
   "source": [
    "# The below code is designed to get the prediction of how each mutation affects the\n",
    "# functional score. It is complex, because `multidms` currently lacks any method for\n",
    "# accessing the predicted functional scores for anything other than the training set,\n",
    "# and because the wildtype functional score may not be zero.\n",
    "# The below code WILL ONLY WORK for sigmoid epistasis and just the reference condition.\n",
    "mut_effects = (\n",
    "    # get mutation effects but add wildtype, which is not included in `multidms` output\n",
    "    pd.concat(\n",
    "        [\n",
    "            (\n",
    "                model.mutations_df.rename(\n",
    "                    columns={\"β\": \"latent_phenotype_effect\"}\n",
    "                ).drop(  # fix bizarre name\n",
    "                    columns=\"mutation\"\n",
    "                )  # not needed for this code\n",
    "            ),\n",
    "            pd.DataFrame(\n",
    "                {\n",
    "                    \"sites\": data.site_map.index,\n",
    "                    \"wts\": data.site_map[selection],\n",
    "                    \"muts\": data.site_map[selection],\n",
    "                    \"latent_phenotype_effect\": 0,\n",
    "                }\n",
    "            ),\n",
    "        ],\n",
    "        ignore_index=True,\n",
    "    )\n",
    "    .sort_values([\"sites\", \"muts\"])\n",
    "    .reset_index(drop=True)\n",
    "    # rename columns to names that are clearer for this analysis\n",
    "    .rename(\n",
    "        columns={\n",
    "            f\"times_seen_{selection}\": \"times_seen\",\n",
    "            \"wts\": \"wildtype\",\n",
    "            \"sites\": \"site\",\n",
    "            \"muts\": \"mutant\",\n",
    "        }\n",
    "    )\n",
    "    # Compute the predicted functional score for each mutation. This code is a hack to\n",
    "    # temporarily fix the fact that `multidms` does not enable prediction of functional\n",
    "    # scores, and ONLY WORKS for sigmoid epistasis on the reference condition.\n",
    "    .assign(\n",
    "        # latent phenotype differs from latent phenotype effect since wildtype != 0\n",
    "        latent_phenotype=lambda x: x[\"latent_phenotype_effect\"] + model.params[\"C_ref\"],\n",
    "        # get predicted functional score of each mutant\n",
    "        predicted_functional_score=lambda x: (\n",
    "            model.params[\"α\"][\"ge_scale\"] / (1 + numpy.exp(-x[\"latent_phenotype\"]))\n",
    "            + model.params[\"α\"][\"ge_bias\"]\n",
    "        ),\n",
    "        # the functional effect is predicted functional score minus predicted score for\n",
    "        # wildtype, which is != 0\n",
    "        functional_effect=lambda x: (\n",
    "            x[\"predicted_functional_score\"]\n",
    "            - model.params[\"α\"][\"ge_scale\"] / (1 + numpy.exp(-model.params[\"C_ref\"]))\n",
    "            - model.params[\"α\"][\"ge_bias\"]\n",
    "        ),\n",
    "    )\n",
    "    # drop the phenotypes themselves, as we care about the effects of mutations\n",
    "    .drop(columns=[\"latent_phenotype\", \"predicted_functional_score\"])\n",
    ")\n",
    "\n",
    "mut_effects"
   ]
  },
  {
   "cell_type": "markdown",
   "id": "82a2bd60-81d3-4f0d-83d9-5192d66fabfd",
   "metadata": {
    "execution": {
     "iopub.execute_input": "2023-07-10T12:36:30.196511Z",
     "iopub.status.busy": "2023-07-10T12:36:30.195988Z",
     "iopub.status.idle": "2023-07-10T12:36:30.204730Z",
     "shell.execute_reply": "2023-07-10T12:36:30.203786Z",
     "shell.execute_reply.started": "2023-07-10T12:36:30.196479Z"
    }
   },
   "source": [
    "Write the mutational effects to a file:"
   ]
  },
  {
   "cell_type": "code",
   "execution_count": null,
   "id": "7701f560-b8b0-41db-9a1e-6cab08f57c75",
   "metadata": {},
   "outputs": [],
   "source": [
    "print(f\"Writing the mutational effects to {func_effects}\")\n",
    "\n",
    "mut_effects.to_csv(func_effects, index=False, float_format=\"%.4g\")"
   ]
  }
 ],
 "metadata": {
  "kernelspec": {
   "display_name": "Python 3 (ipykernel)",
   "language": "python",
   "name": "python3"
  },
  "language_info": {
   "codemirror_mode": {
    "name": "ipython",
    "version": 3
   },
   "file_extension": ".py",
   "mimetype": "text/x-python",
   "name": "python",
   "nbconvert_exporter": "python",
   "pygments_lexer": "ipython3",
   "version": "3.11.4"
  }
 },
 "nbformat": 4,
 "nbformat_minor": 5
}
