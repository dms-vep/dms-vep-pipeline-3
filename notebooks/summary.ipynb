{
 "cells": [
  {
   "cell_type": "markdown",
   "id": "a616ff59-8358-45c1-8c35-87fbae29d675",
   "metadata": {},
   "source": [
    "# Summarize results across assays\n",
    "This notebook makes summarizes the results across assays."
   ]
  },
  {
   "cell_type": "code",
   "execution_count": 1,
   "id": "42e0d6c9-4481-478f-bd7b-5f0974b1169e",
   "metadata": {},
   "outputs": [],
   "source": [
    "import functools\n",
    "import operator\n",
    "import re\n",
    "\n",
    "import altair as alt\n",
    "\n",
    "import pandas as pd\n",
    "\n",
    "import polyclonal.alphabets\n",
    "from polyclonal.plot import color_gradient_hex\n",
    "\n",
    "_ = alt.data_transformers.disable_max_rows()"
   ]
  },
  {
   "cell_type": "markdown",
   "id": "49f7c160-65ac-4023-bb51-d21ffc56a94c",
   "metadata": {},
   "source": [
    "The next cell is tagged as `parameters` for `papermill` parameterization:"
   ]
  },
  {
   "cell_type": "code",
   "execution_count": 2,
   "id": "48308e90-bd88-4e79-8024-b3a86a5c0224",
   "metadata": {
    "editable": true,
    "slideshow": {
     "slide_type": ""
    },
    "tags": [
     "parameters"
    ]
   },
   "outputs": [],
   "source": [
    "site_numbering_map_csv = None\n",
    "chart_overlaid = None\n",
    "chart_faceted = None\n",
    "csv_file = None\n",
    "config = None\n",
    "input_csvs = None"
   ]
  },
  {
   "cell_type": "code",
   "execution_count": 3,
   "id": "4ff7fad6-0f8a-4bad-b30e-28b51451d631",
   "metadata": {
    "papermill": {
     "duration": 0.00472,
     "end_time": "2023-08-27T18:31:39.236443",
     "exception": false,
     "start_time": "2023-08-27T18:31:39.231723",
     "status": "completed"
    },
    "tags": [
     "injected-parameters"
    ]
   },
   "outputs": [],
   "source": [
    "# Parameters\n",
    "config = {\n",
    "    \"min_times_seen\": 3,\n",
    "    \"min_frac_models\": 1,\n",
    "    \"alphabet\": [\n",
    "        \"A\",\n",
    "        \"C\",\n",
    "        \"D\",\n",
    "        \"E\",\n",
    "        \"F\",\n",
    "        \"G\",\n",
    "        \"H\",\n",
    "        \"I\",\n",
    "        \"K\",\n",
    "        \"L\",\n",
    "        \"M\",\n",
    "        \"N\",\n",
    "        \"P\",\n",
    "        \"Q\",\n",
    "        \"R\",\n",
    "        \"S\",\n",
    "        \"T\",\n",
    "        \"V\",\n",
    "        \"W\",\n",
    "        \"Y\",\n",
    "        \"-\",\n",
    "    ],\n",
    "    \"init_floor_escape_at_zero\": True,\n",
    "    \"init_site_escape_stat\": \"mean\",\n",
    "    \"antibody_escape\": {\n",
    "        \"monoclonal antibodies\": {\n",
    "            \"stat\": \"escape_median\",\n",
    "            \"negative_color\": \"#0072B2\",\n",
    "            \"positive_color\": \"#E69F00\",\n",
    "            \"max_at_least\": 1,\n",
    "            \"min_at_least\": -1,\n",
    "            \"antibody_list\": {\n",
    "                \"REGN10933\": \"REGN10933\", \"S2M11\": \"S2M-11\",\n",
    "            },\n",
    "        }\n",
    "    },\n",
    "    \"func_effects\": {\n",
    "        \"spike-mediated infection\": {\n",
    "            \"condition\": \"293T_ACE2_entry\",\n",
    "            \"effect_type\": \"func_effects\",\n",
    "            \"positive_color\": \"#009E73\",\n",
    "            \"negative_color\": \"#CC79A7\",\n",
    "            \"max_at_least\": 1,\n",
    "            \"min_at_least\": 0,\n",
    "        }\n",
    "    },\n",
    "    \"other_assays\": {\n",
    "        \"receptor_affinity\": {\n",
    "            \"mock receptor affinity\": {\n",
    "                \"condition\": \"pretending_S2M11_is_receptor\",\n",
    "                \"stat\": \"receptor affinity_median\",\n",
    "                \"positive_color\": \"#FF715B\",\n",
    "                \"negative_color\": \"#F3C13A\",\n",
    "                \"max_at_least\": 1,\n",
    "                \"min_at_least\": 0,\n",
    "            }\n",
    "        }\n",
    "    },\n",
    "}\n",
    "input_csvs = {\n",
    "    \"antibody_escape REGN10933\": \"results/antibody_escape/averages/REGN10933_mut_effect.csv\",\n",
    "    \"antibody_escape S2M11\": \"results/antibody_escape/averages/S2M11_mut_effect.csv\",\n",
    "    \"func_effects 293T_ACE2_entry\": \"results/func_effects/averages/293T_ACE2_entry_func_effects.csv\",\n",
    "    \"receptor_affinity pretending_S2M11_is_receptor\": \"results/receptor_affinity/averages/pretending_S2M11_is_receptor_mut_effect.csv\",\n",
    "}\n",
    "site_numbering_map_csv = \"data/site_numbering_map.csv\"\n",
    "chart_faceted = \"results/summaries/summary_faceted_nolegend.html\"\n",
    "chart_overlaid = \"results/summaries/summary_overlaid_nolegend.html\"\n",
    "csv_file = \"results/summaries/summary.csv\"\n",
    "\n",
    "import os\n",
    "os.chdir(\"../test_example\")"
   ]
  },
  {
   "cell_type": "markdown",
   "id": "510b32fb-231f-491b-8f7f-840237f2ac25",
   "metadata": {},
   "source": [
    "Get the `min_times_seen` and `min_frac_models` filters:"
   ]
  },
  {
   "cell_type": "code",
   "execution_count": 4,
   "id": "9acad9d4-d24e-4545-98d9-76cd278c5356",
   "metadata": {},
   "outputs": [
    {
     "name": "stdout",
     "output_type": "stream",
     "text": [
      "Using min_times_seen=3 and min_frac_models=1\n"
     ]
    }
   ],
   "source": [
    "min_times_seen = config[\"min_times_seen\"]\n",
    "min_frac_models = config[\"min_frac_models\"]\n",
    "alphabet = polyclonal.alphabets.biochem_order_aas(config[\"alphabet\"])\n",
    "\n",
    "print(f\"Using {min_times_seen=} and {min_frac_models=}\")"
   ]
  },
  {
   "cell_type": "markdown",
   "id": "ce47af8b-f111-46f0-a8eb-76e595056305",
   "metadata": {},
   "source": [
    "Read the site numbering map:"
   ]
  },
  {
   "cell_type": "code",
   "execution_count": 6,
   "id": "0dd38dc8-e0e7-428f-9c20-a85220f8decc",
   "metadata": {},
   "outputs": [],
   "source": [
    "site_numbering_map = pd.read_csv(site_numbering_map_csv).rename(\n",
    "    columns={\"reference_site\": \"site\"}\n",
    ")\n",
    "site_numbering_map = site_numbering_map[\n",
    "    [c for c in site_numbering_map.columns if c.endswith(\"site\")] + [\"region\"]\n",
    "]"
   ]
  },
  {
   "cell_type": "markdown",
   "id": "a387a04a-0ac9-4817-8970-feed59b7d2dd",
   "metadata": {},
   "source": [
    "Read the escape data:"
   ]
  },
  {
   "cell_type": "code",
   "execution_count": 7,
   "id": "e3a189e6-a058-4089-89c0-cf7651c06e9e",
   "metadata": {},
   "outputs": [],
   "source": [
    "escape = {}\n",
    "for antibody_set, antibody_set_d in config[\"antibody_escape\"].items():\n",
    "    assert len(antibody_set_d[\"antibody_list\"]) == len(set(antibody_set_d[\"antibody_list\"].values()))\n",
    "    escape_dfs = []\n",
    "    for antibody, antibody_name in antibody_set_d[\"antibody_list\"].items():\n",
    "        csv_file = input_csvs[f\"antibody_escape {antibody}\"]\n",
    "        escape_dfs.append(\n",
    "            pd.read_csv(csv_file).assign(antibody=antibody_name).rename(\n",
    "                columns={antibody_set_d[\"stat\"]: \"escape\"}\n",
    "            )\n",
    "        )\n",
    "    escape[antibody_set] = (\n",
    "        pd.concat(escape_dfs)\n",
    "        .query(\"frac_models >= @min_frac_models\")\n",
    "        .query(\"times_seen >= @min_times_seen\")\n",
    "        .query(\"(mutant in @alphabet) and (wildtype in @alphabet)\")\n",
    "        .pivot_table(\n",
    "            index=[\"epitope\", \"site\", \"wildtype\", \"mutant\"],\n",
    "            columns=\"antibody\",\n",
    "             values=\"escape\",\n",
    "        )\n",
    "        .reset_index()\n",
    "        .assign(site_mutant=lambda x: x[\"site\"].astype(str) + x[\"mutant\"])\n",
    "    )\n",
    "    assert escape[antibody_set][\"epitope\"].nunique() == 1, \"can only have 1 epitope\"\n",
    "    escape[antibody_set] = escape[antibody_set].drop(columns=\"epitope\")"
   ]
  },
  {
   "cell_type": "markdown",
   "id": "c12ab617-df38-4165-b97e-7fe27e124a8b",
   "metadata": {},
   "source": [
    "Read other properties (functional effects and measurements from other assays):"
   ]
  },
  {
   "cell_type": "code",
   "execution_count": null,
   "id": "f40376e0-ad62-48f7-a2c5-973968a3df7a",
   "metadata": {},
   "outputs": [],
   "source": []
  }
 ],
 "metadata": {
  "kernelspec": {
   "display_name": "Python 3 (ipykernel)",
   "language": "python",
   "name": "python3"
  },
  "language_info": {
   "codemirror_mode": {
    "name": "ipython",
    "version": 3
   },
   "file_extension": ".py",
   "mimetype": "text/x-python",
   "name": "python",
   "nbconvert_exporter": "python",
   "pygments_lexer": "ipython3",
   "version": "3.11.4"
  }
 },
 "nbformat": 4,
 "nbformat_minor": 5
}
