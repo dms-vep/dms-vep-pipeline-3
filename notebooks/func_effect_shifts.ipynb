{
 "cells": [
  {
   "cell_type": "markdown",
   "id": "cd032799-f956-4da8-baad-43dff0af1046",
   "metadata": {},
   "source": [
    "# Fit shifts in functional effects\n",
    "\n",
    "Import Python modules.\n",
    "We use `multidms` for the fitting:"
   ]
  },
  {
   "cell_type": "code",
   "execution_count": null,
   "id": "6653d04b-720e-4959-a8d8-006ce97190b6",
   "metadata": {},
   "outputs": [],
   "source": [
    "import dms_variants.codonvarianttable\n",
    "\n",
    "import matplotlib.pyplot as plt\n",
    "\n",
    "import multidms\n",
    "\n",
    "import pandas as pd\n",
    "\n",
    "import seaborn"
   ]
  },
  {
   "cell_type": "markdown",
   "id": "0276731c-0a6f-4820-9edb-b61ab1e2ace8",
   "metadata": {},
   "source": [
    "This notebook is parameterized by `papermill`.\n",
    "The next cell is tagged as `parameters` to get the passed parameters."
   ]
  },
  {
   "cell_type": "code",
   "execution_count": null,
   "id": "9ddd6a5a-5e55-4386-872b-ad9ce2af3d19",
   "metadata": {
    "editable": true,
    "slideshow": {
     "slide_type": ""
    },
    "tags": [
     "parameters"
    ]
   },
   "outputs": [],
   "source": [
    "# this cell is tagged parameters for `papermill` parameterization\n",
    "params = None\n",
    "shifts_csv = None\n",
    "threads = None"
   ]
  },
  {
   "cell_type": "markdown",
   "id": "92329f70-40bd-4e5c-800a-6690c9a05b78",
   "metadata": {},
   "source": [
    "Read and clip functional scores:"
   ]
  },
  {
   "cell_type": "code",
   "execution_count": null,
   "id": "5e231793-42b7-4306-9328-fce30ba0a4b0",
   "metadata": {},
   "outputs": [],
   "source": [
    "func_scores_df = pd.concat(\n",
    "    [\n",
    "        pd.read_csv(\n",
    "            f\"results/func_scores/{selection}_func_scores.csv\", na_filter=None\n",
    "        ).assign(condition=condition)\n",
    "        for condition, selection in params[\"conditions\"].items()\n",
    "    ]\n",
    ").pipe(dms_variants.codonvarianttable.CodonVariantTable.classifyVariants)\n",
    "\n",
    "median_stop = func_scores_df.query(\"variant_class == 'stop'\")[\"func_score\"].median()\n",
    "\n",
    "for bound in [\"upper\", \"lower\"]:\n",
    "    clip = params[f\"clip_{bound}\"]\n",
    "    if clip is None:\n",
    "        print(f\"No clipping on {bound} bound of functional scores\")\n",
    "    else:\n",
    "        if clip == \"median_stop\":\n",
    "            if pd.isnull(median_stop):\n",
    "                raise ValueError(f\"{median_stop=}\")\n",
    "            clip = median_stop\n",
    "        assert isinstance(clip, (int, float)), clip\n",
    "        print(f\"Clipping {bound} bound of functional scores to {clip}\")\n",
    "        func_scores_df[\"func_score\"] = func_scores_df[\"func_score\"].clip(\n",
    "            **{bound: clip}\n",
    "        )"
   ]
  },
  {
   "cell_type": "markdown",
   "id": "abcc702d-9c73-4945-a03f-c55b7ed75005",
   "metadata": {},
   "source": [
    "Initialize data for `multidms`:"
   ]
  },
  {
   "cell_type": "code",
   "execution_count": null,
   "id": "a9a95939-5d36-421f-b03b-fad53022bc57",
   "metadata": {},
   "outputs": [],
   "source": [
    "data = multidms.Data(\n",
    "    variants_df=func_scores_df,\n",
    "    reference=params[\"reference\"],\n",
    "    alphabet=multidms.AAS_WITHSTOP_WITHGAP,\n",
    "    collapse_identical_variants=params[\"collapse_identical_variants\"],\n",
    "    letter_suffixed_sites=True,\n",
    "    verbose=True,\n",
    "    nb_workers=threads,\n",
    "    assert_site_integrity=True,\n",
    ")"
   ]
  },
  {
   "cell_type": "markdown",
   "id": "16064d9a-5f50-46d0-a69b-16911a67ddf1",
   "metadata": {},
   "source": [
    "Now initialize and fit the model for each lasso penalty:"
   ]
  },
  {
   "cell_type": "code",
   "execution_count": null,
   "id": "2395d59d-c1b5-4c2f-a828-f12c38ce5bb9",
   "metadata": {},
   "outputs": [],
   "source": [
    "lasso_shifts = params[\"lasso_shifts\"]\n",
    "assert len(lasso_shifts) == len(set(lasso_shifts))\n",
    "n_lasso = len(params[\"lasso_shifts\"])\n",
    "fig, ax = plt.subplots(n_lasso, 2, figsize=[6, n_lasso * 3])\n",
    "\n",
    "model = multidms.Model(data)\n",
    "mutations_df = []\n",
    "for i, lasso_shift in enumerate(lasso_shifts):\n",
    "    lasso_shift = float(lasso_shift)\n",
    "    print(f\"Fitting model for {lasso_shift=}\")\n",
    "    model.fit(lasso_shift=lasso_shift)\n",
    "    mutations_df.append(\n",
    "        model.get_mutations_df(phenotype_as_effect=True).assign(lasso_shift=lasso_shift)\n",
    "    )\n",
    "    model.plot_epistasis(ax=ax[i, 1], alpha=0.1, show=False, legend=not i)\n",
    "    model.plot_pred_accuracy(ax=ax[i, 0], alpha=0.1, show=False, legend=False)\n",
    "    ax[i, 1].set_title(f\"Epistasis fit (lasso {lasso_shift})\")\n",
    "    ax[i, 0].set_title(f\"Accuracy (lasso {lasso_shift})\")\n",
    "\n",
    "plt.show()"
   ]
  },
  {
   "cell_type": "markdown",
   "id": "a766dcb1-27b2-4d69-8578-35b68015e235",
   "metadata": {
    "execution": {
     "iopub.execute_input": "2023-07-26T22:28:10.933629Z",
     "iopub.status.busy": "2023-07-26T22:28:10.932899Z",
     "iopub.status.idle": "2023-07-26T22:28:30.091728Z",
     "shell.execute_reply": "2023-07-26T22:28:30.090410Z",
     "shell.execute_reply.started": "2023-07-26T22:28:10.933577Z"
    }
   },
   "source": [
    "Get the mutations effect shifts frame for each lasso penalty, adding in wildtype:"
   ]
  },
  {
   "cell_type": "code",
   "execution_count": null,
   "id": "c464234d-78b3-4f40-b3b0-7de81a3b6281",
   "metadata": {},
   "outputs": [],
   "source": [
    "# get shifts for mutations\n",
    "mut_shifts = pd.concat(mutations_df).rename(\n",
    "    columns={\n",
    "        \"wts\": \"wildtype\",\n",
    "        \"sites\": \"site\",\n",
    "        \"muts\": \"mutant\",\n",
    "        \"beta\": \"latent_phenotype_effect\",\n",
    "    }\n",
    ")\n",
    "\n",
    "# we do not keep predicted functional effects\n",
    "mut_shifts = mut_shifts[\n",
    "    [c for c in mut_shifts.columns if not c.startswith(\"predicted\")]\n",
    "]\n",
    "\n",
    "# add wildtypes\n",
    "mut_shifts = (\n",
    "    pd.concat(\n",
    "        [\n",
    "            mut_shifts,\n",
    "            pd.concat(\n",
    "                [\n",
    "                    pd.DataFrame(\n",
    "                        {\n",
    "                            \"site\": data.site_map.index,\n",
    "                            \"wildtype\": data.site_map[str(params[\"reference\"])],\n",
    "                            \"mutant\": data.site_map[str(params[\"reference\"])],\n",
    "                            \"latent_phenotype_effect\": 0,\n",
    "                            **{\n",
    "                                col: 0\n",
    "                                for col in mut_shifts.columns\n",
    "                                if col.startswith(\"shift_\")\n",
    "                            },\n",
    "                        }\n",
    "                    ).assign(lasso_shift=float(lasso_shift))\n",
    "                    for lasso_shift in lasso_shifts\n",
    "                ]\n",
    "            ),\n",
    "        ]\n",
    "    )\n",
    "    .sort_values([\"lasso_shift\", \"site\", \"mutant\"])\n",
    "    .reset_index(drop=True)\n",
    ")\n",
    "\n",
    "print(f\"Saving shifts to {shifts_csv}\")\n",
    "\n",
    "mut_shifts.to_csv(shifts_csv, index=False, float_format=\"%.4g\")"
   ]
  },
  {
   "cell_type": "markdown",
   "id": "91530189-178c-41d5-8790-c1e766eaa874",
   "metadata": {},
   "source": [
    "Plot distribution of shifts for all non-wildtype residues for each regularization:"
   ]
  },
  {
   "cell_type": "code",
   "execution_count": null,
   "id": "52542629-f4e0-43fd-930d-f7435034868a",
   "metadata": {},
   "outputs": [],
   "source": [
    "mut_shifts_cols = [c for c in mut_shifts.columns if c.startswith(\"shift_\")]\n",
    "\n",
    "mut_shifts_tidy = mut_shifts.query(\"wildtype != mutant\").melt(\n",
    "    id_vars=[\"site\", \"mutant\", \"lasso_shift\"],\n",
    "    value_vars=mut_shifts_cols,\n",
    "    var_name=\"condition\",\n",
    "    value_name=\"shift\",\n",
    ")\n",
    "\n",
    "_ = seaborn.displot(\n",
    "    mut_shifts_tidy,\n",
    "    x=\"shift\",\n",
    "    col=\"condition\",\n",
    "    row=\"lasso_shift\",\n",
    "    hue=\"condition\",\n",
    "    height=1.9,\n",
    "    aspect=1.8,\n",
    "    facet_kws={\"margin_titles\": True},\n",
    ")"
   ]
  }
 ],
 "metadata": {
  "kernelspec": {
   "display_name": "Python 3 (ipykernel)",
   "language": "python",
   "name": "python3"
  },
  "language_info": {
   "codemirror_mode": {
    "name": "ipython",
    "version": 3
   },
   "file_extension": ".py",
   "mimetype": "text/x-python",
   "name": "python",
   "nbconvert_exporter": "python",
   "pygments_lexer": "ipython3",
   "version": "3.11.4"
  }
 },
 "nbformat": 4,
 "nbformat_minor": 5
}
