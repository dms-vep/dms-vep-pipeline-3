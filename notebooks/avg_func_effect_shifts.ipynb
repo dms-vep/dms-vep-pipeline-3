{
 "cells": [
  {
   "cell_type": "markdown",
   "id": "cd032799-f956-4da8-baad-43dff0af1046",
   "metadata": {},
   "source": [
    "# Average mutation functional effect shifts for a set of comparisons\n",
    "\n",
    "Import Python modules.\n",
    "We use `polyclonal` for the plotting:"
   ]
  },
  {
   "cell_type": "code",
   "execution_count": null,
   "id": "6653d04b-720e-4959-a8d8-006ce97190b6",
   "metadata": {},
   "outputs": [],
   "source": [
    "import pandas as pd\n",
    "\n",
    "import polyclonal\n",
    "import polyclonal.plot\n",
    "\n",
    "import seaborn"
   ]
  },
  {
   "cell_type": "markdown",
   "id": "0276731c-0a6f-4820-9edb-b61ab1e2ace8",
   "metadata": {},
   "source": [
    "This notebook is parameterized by `papermill`.\n",
    "The next cell is tagged as `parameters` to get the passed parameters."
   ]
  },
  {
   "cell_type": "code",
   "execution_count": null,
   "id": "9ddd6a5a-5e55-4386-872b-ad9ce2af3d19",
   "metadata": {
    "editable": true,
    "slideshow": {
     "slide_type": ""
    },
    "tags": [
     "parameters"
    ]
   },
   "outputs": [],
   "source": [
    "# this cell is tagged parameters for `papermill` parameterization\n",
    "site_numbering_map_csv = None\n",
    "shifts_csv = None\n",
    "shifts_html = None\n",
    "params = None"
   ]
  },
  {
   "cell_type": "markdown",
   "id": "4af522cf-1fdb-4bc4-99d4-c40a8b518c4f",
   "metadata": {},
   "source": [
    "Read the input data:"
   ]
  },
  {
   "cell_type": "code",
   "execution_count": null,
   "id": "f8f6f5d0-a8d4-4a88-8e9c-01c28cdcd2f6",
   "metadata": {},
   "outputs": [],
   "source": [
    "comparisons = params[\"comparisons\"]\n",
    "\n",
    "shifts = [\n",
    "    pd.read_csv(f\"results/func_effect_shifts/by_comparison/{c}_shifts.csv\").assign(\n",
    "        comparison=c,\n",
    "        lasso_shift=lambda x: x[\"lasso_shift\"].astype(float),\n",
    "    )\n",
    "    for c in comparisons\n",
    "]\n",
    "\n",
    "# check all shift comparisons are comparable:\n",
    "for shift_df in shifts[1:]:\n",
    "    if (shift_df.columns != shifts[0].columns).any():\n",
    "        raise ValueError(\"comparisons do not all have the same columns\")\n",
    "    if set(shift_df[\"lasso_shift\"]) != set(shifts[0][\"lasso_shift\"]):\n",
    "        raise ValueError(\"comparisons do not all have the same `lasso_shifts`\")\n",
    "\n",
    "shifts = pd.concat(shifts)\n",
    "\n",
    "# add a times_seen column that is the average of all of the times_seen in all conditions\n",
    "times_seen_cols = [c for c in shifts.columns if c.startswith(\"times_seen_\")]\n",
    "shifts[\"times_seen\"] = shifts[times_seen_cols].mean(axis=1)\n",
    "\n",
    "# get shifts in tidy format\n",
    "shift_cols = [c for c in shifts.columns if c.startswith(\"shift_\")]\n",
    "shifts_tidy = shifts.melt(\n",
    "    id_vars=[\n",
    "        \"comparison\",\n",
    "        \"site\",\n",
    "        \"wildtype\",\n",
    "        \"mutant\",\n",
    "        \"lasso_shift\",\n",
    "        \"times_seen\",\n",
    "        \"latent_phenotype_effect\",\n",
    "    ],\n",
    "    value_vars=shift_cols,\n",
    "    var_name=\"condition\",\n",
    "    value_name=\"shift\",\n",
    ")\n",
    "\n",
    "# average times_seen & latent_phenotype_effect across comparisons, pivot on comparisons\n",
    "shifts_comparison_pivoted = (\n",
    "    shifts_tidy.assign(\n",
    "        times_seen=lambda x: x.groupby([\"site\", \"mutant\", \"lasso_shift\"])[\n",
    "            \"times_seen\"\n",
    "        ].transform(\"mean\"),\n",
    "        latent_phenotype_effect=lambda x: x.groupby([\"site\", \"mutant\", \"lasso_shift\"])[\n",
    "            \"latent_phenotype_effect\"\n",
    "        ].transform(\"mean\"),\n",
    "    )\n",
    "    .pivot_table(\n",
    "        index=[\n",
    "            \"site\",\n",
    "            \"wildtype\",\n",
    "            \"mutant\",\n",
    "            \"latent_phenotype_effect\",\n",
    "            \"times_seen\",\n",
    "            \"lasso_shift\",\n",
    "            \"condition\",\n",
    "        ],\n",
    "        values=\"shift\",\n",
    "        columns=\"comparison\",\n",
    "    )\n",
    "    .reset_index()\n",
    ")"
   ]
  },
  {
   "cell_type": "markdown",
   "id": "3f4598b3-9c7d-4596-b1c5-a0cc61a5a202",
   "metadata": {},
   "source": [
    "Plot correlation of shifts for each lasso shift, restricting to a minimum threshold `times_seen`, and not plotting shifts for wildtype residues.\n",
    "In general, you might hope to find a lasso shift that has relatively few non-zero shifts, and those are correlated among comparisons."
   ]
  },
  {
   "cell_type": "code",
   "execution_count": null,
   "id": "b850b0d6-f9f8-4a14-8650-ce08e8dd12c8",
   "metadata": {},
   "outputs": [],
   "source": [
    "try:\n",
    "    times_seen = params[\"plot_kwargs\"][\"addtl_slider_stats\"][\"times_seen\"]\n",
    "except KeyError:\n",
    "    times_seen = 3\n",
    "\n",
    "print(f\"Only plotting mutations with times_seen >= {times_seen}\")\n",
    "\n",
    "for lasso_shift, df in shifts_comparison_pivoted.groupby(\"lasso_shift\"):\n",
    "    grid = seaborn.pairplot(\n",
    "        df.query(\"times_seen >= 3\").query(\"wildtype != mutant\"),\n",
    "        vars=comparisons,\n",
    "        hue=(\n",
    "            None\n",
    "            if shifts_comparison_pivoted[\"condition\"].nunique() == 1\n",
    "            else \"condition\"\n",
    "        ),\n",
    "        plot_kws={\"alpha\": 0.3, \"s\": 25},\n",
    "    )\n",
    "    grid.fig.suptitle(f\"lasso shift = {lasso_shift}\")\n",
    "    grid.fig.tight_layout()"
   ]
  },
  {
   "cell_type": "markdown",
   "id": "14a65f65-87be-441d-81af-b46123144d71",
   "metadata": {},
   "source": [
    "Now make an interactive plots of the shifts.\n",
    "First, get the data to plot:"
   ]
  },
  {
   "cell_type": "code",
   "execution_count": null,
   "id": "b44725e6-310e-4f4c-bb7b-941094b2e87c",
   "metadata": {},
   "outputs": [],
   "source": [
    "lasso_shift = float(params[\"lasso_shift\"])\n",
    "avg_method = params[\"avg_method\"]\n",
    "\n",
    "assert lasso_shift in set(shifts_comparison_pivoted[\"lasso_shift\"])\n",
    "assert avg_method in {\"mean\", \"median\"}, avg_method\n",
    "\n",
    "site_numbering_map = pd.read_csv(site_numbering_map_csv).rename(\n",
    "    columns={\"reference_site\": \"site\"}\n",
    ")\n",
    "addtl_site_cols = [\n",
    "    c for c in site_numbering_map.columns if c != \"site\" and c.endswith(\"site\")\n",
    "]\n",
    "\n",
    "# get the data to plot\n",
    "df = (\n",
    "    shifts_comparison_pivoted.query(\"lasso_shift == @lasso_shift\")\n",
    "    .drop(columns=\"lasso_shift\")\n",
    "    .merge(\n",
    "        site_numbering_map[[\"site\", *addtl_site_cols, \"region\"]],\n",
    "        on=\"site\",\n",
    "        validate=\"many_to_one\",\n",
    "    )\n",
    "    .assign(\n",
    "        shift=lambda x: x[comparisons].apply(avg_method, axis=1),\n",
    "        n_comparisons=lambda x: x[comparisons].notnull().sum(axis=1),\n",
    "    )\n",
    ")\n",
    "\n",
    "print(f\"Saving shifts to {shifts_csv}\")\n",
    "df.drop(columns=[c for c in addtl_site_cols if c != \"sequential_site\"]).to_csv(\n",
    "    shifts_csv, index=False, float_format=\"%.4g\"\n",
    ")"
   ]
  },
  {
   "cell_type": "markdown",
   "id": "343cd142-5dff-40a8-bbf9-94d81caacfcb",
   "metadata": {},
   "source": [
    "Set up keyword arguments to [https://jbloomlab.github.io/polyclonal/polyclonal.plot.html#polyclonal.plot.lineplot_and_heatmap](https://jbloomlab.github.io/polyclonal/polyclonal.plot.html#polyclonal.plot.lineplot_and_heatmap) if they are not already specified:"
   ]
  },
  {
   "cell_type": "code",
   "execution_count": null,
   "id": "d7efe998-8887-464b-bf52-a7a1aa845a15",
   "metadata": {},
   "outputs": [],
   "source": [
    "plot_kwargs = params[\"plot_kwargs\"]\n",
    "\n",
    "if \"addtl_slider_stats\" not in plot_kwargs:\n",
    "    plot_kwargs[\"addtl_slider_stats\"] = {}\n",
    "\n",
    "if \"times_seen\" not in plot_kwargs[\"addtl_slider_stats\"]:\n",
    "    plot_kwargs[\"addtl_slider_stats\"][\"times_seen\"] = times_seen\n",
    "\n",
    "if \"n_comparisons\" not in plot_kwargs[\"addtl_slider_stats\"]:\n",
    "    plot_kwargs[\"addtl_slider_stats\"][\"n_comparisons\"] = len(comparisons) // 2 + 1\n",
    "\n",
    "if \"addtl_tooltip_stats\" not in plot_kwargs:\n",
    "    plot_kwargs[\"addtl_tooltip_stats\"] = []\n",
    "for c in addtl_site_cols:\n",
    "    if c not in plot_kwargs[\"addtl_tooltip_stats\"]:\n",
    "        plot_kwargs[\"addtl_tooltip_stats\"].append(c)\n",
    "\n",
    "if any(df[\"site\"] != df[\"sequential_site\"]):\n",
    "    if \"sequential_site\" not in plot_kwargs[\"addtl_tooltip_stats\"]:\n",
    "        plot_kwargs[\"addtl_tooltip_stats\"].append(\"sequential_site\")\n",
    "\n",
    "if params[\"per_comparison_tooltips\"]:\n",
    "    assert set(comparisons).issubset(df.columns)\n",
    "    plot_kwargs[\"addtl_tooltip_stats\"] += [\n",
    "        c for c in comparisons if c not in plot_kwargs[\"addtl_tooltip_stats\"]\n",
    "    ]\n",
    "\n",
    "if \"alphabet\" not in plot_kwargs:\n",
    "    plot_kwargs[\"alphabet\"] = [\n",
    "        a\n",
    "        for a in polyclonal.alphabets.biochem_order_aas(polyclonal.AAS_WITHSTOP_WITHGAP)\n",
    "        if a in set(df[\"mutant\"])\n",
    "    ]\n",
    "\n",
    "if \"sites\" not in plot_kwargs:\n",
    "    plot_kwargs[\"sites\"] = df.sort_values(\"sequential_site\")[\"site\"].unique().tolist()"
   ]
  },
  {
   "cell_type": "code",
   "execution_count": null,
   "id": "92383610-8fe1-4192-bc02-37971d02f2b8",
   "metadata": {},
   "outputs": [],
   "source": [
    "chart = polyclonal.plot.lineplot_and_heatmap(\n",
    "    data_df=df,\n",
    "    stat_col=\"shift\",\n",
    "    category_col=\"condition\",\n",
    "    **plot_kwargs,\n",
    ")\n",
    "\n",
    "print(f\"Saving chart to {shifts_html}\")\n",
    "chart.save(shifts_html)\n",
    "\n",
    "chart"
   ]
  },
  {
   "cell_type": "code",
   "execution_count": null,
   "id": "6e3aab38-ce7a-425b-b455-249117c9c03a",
   "metadata": {},
   "outputs": [],
   "source": []
  }
 ],
 "metadata": {
  "kernelspec": {
   "display_name": "Python 3 (ipykernel)",
   "language": "python",
   "name": "python3"
  },
  "language_info": {
   "codemirror_mode": {
    "name": "ipython",
    "version": 3
   },
   "file_extension": ".py",
   "mimetype": "text/x-python",
   "name": "python",
   "nbconvert_exporter": "python",
   "pygments_lexer": "ipython3",
   "version": "3.11.4"
  }
 },
 "nbformat": 4,
 "nbformat_minor": 5
}
