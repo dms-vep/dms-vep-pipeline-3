{
 "cells": [
  {
   "cell_type": "markdown",
   "id": "cd032799-f956-4da8-baad-43dff0af1046",
   "metadata": {
    "papermill": {
     "duration": 0.002803,
     "end_time": "2023-12-05T23:52:55.345958",
     "exception": false,
     "start_time": "2023-12-05T23:52:55.343155",
     "status": "completed"
    },
    "tags": []
   },
   "source": [
    "# Average mutation functional effect shifts for a set of comparisons\n",
    "\n",
    "Import Python modules.\n",
    "We use `polyclonal` for the plotting:"
   ]
  },
  {
   "cell_type": "code",
   "execution_count": null,
   "id": "6653d04b-720e-4959-a8d8-006ce97190b6",
   "metadata": {
    "execution": {
     "iopub.execute_input": "2023-12-05T23:52:55.352453Z",
     "iopub.status.busy": "2023-12-05T23:52:55.351691Z",
     "iopub.status.idle": "2023-12-05T23:52:56.632337Z",
     "shell.execute_reply": "2023-12-05T23:52:56.631665Z"
    },
    "papermill": {
     "duration": 1.285665,
     "end_time": "2023-12-05T23:52:56.633732",
     "exception": false,
     "start_time": "2023-12-05T23:52:55.348067",
     "status": "completed"
    },
    "tags": []
   },
   "outputs": [],
   "source": [
    "from natsort import natsort_keygen\n",
    "\n",
    "import pickle\n",
    "\n",
    "import pandas as pd\n",
    "\n",
    "import multidms"
   ]
  },
  {
   "cell_type": "markdown",
   "id": "0276731c-0a6f-4820-9edb-b61ab1e2ace8",
   "metadata": {
    "papermill": {
     "duration": 0.002091,
     "end_time": "2023-12-05T23:52:56.637988",
     "exception": false,
     "start_time": "2023-12-05T23:52:56.635897",
     "status": "completed"
    },
    "tags": []
   },
   "source": [
    "This notebook is parameterized by `papermill`.\n",
    "The next cell is tagged as `parameters` to get the passed parameters."
   ]
  },
  {
   "cell_type": "code",
   "execution_count": null,
   "id": "9ddd6a5a-5e55-4386-872b-ad9ce2af3d19",
   "metadata": {
    "editable": true,
    "execution": {
     "iopub.execute_input": "2023-12-05T23:52:56.642804Z",
     "iopub.status.busy": "2023-12-05T23:52:56.642298Z",
     "iopub.status.idle": "2023-12-05T23:52:56.646137Z",
     "shell.execute_reply": "2023-12-05T23:52:56.645566Z"
    },
    "papermill": {
     "duration": 0.007394,
     "end_time": "2023-12-05T23:52:56.647105",
     "exception": false,
     "start_time": "2023-12-05T23:52:56.639711",
     "status": "completed"
    },
    "slideshow": {
     "slide_type": ""
    },
    "tags": [
     "parameters"
    ]
   },
   "outputs": [],
   "source": [
    "# this cell is tagged parameters for `papermill` parameterization\n",
    "site_numbering_map_csv = None\n",
    "shifts_csv = None\n",
    "shifts_html = None\n",
    "params = None"
   ]
  },
  {
   "cell_type": "markdown",
   "id": "4af522cf-1fdb-4bc4-99d4-c40a8b518c4f",
   "metadata": {
    "papermill": {
     "duration": 0.001912,
     "end_time": "2023-12-05T23:52:56.661834",
     "exception": false,
     "start_time": "2023-12-05T23:52:56.659922",
     "status": "completed"
    },
    "tags": []
   },
   "source": [
    "load the pickle binary model collection dataframes and combine them for initializing the `multidms.ModelCollection` Object."
   ]
  },
  {
   "cell_type": "code",
   "execution_count": null,
   "id": "f8f6f5d0-a8d4-4a88-8e9c-01c28cdcd2f6",
   "metadata": {
    "execution": {
     "iopub.execute_input": "2023-12-05T23:52:56.666796Z",
     "iopub.status.busy": "2023-12-05T23:52:56.666624Z",
     "iopub.status.idle": "2023-12-05T23:52:56.787872Z",
     "shell.execute_reply": "2023-12-05T23:52:56.787155Z"
    },
    "papermill": {
     "duration": 0.12532,
     "end_time": "2023-12-05T23:52:56.789015",
     "exception": false,
     "start_time": "2023-12-05T23:52:56.663695",
     "status": "completed"
    },
    "tags": []
   },
   "outputs": [],
   "source": [
    "comparisons = params[\"comparisons\"]\n",
    "\n",
    "combined_fit_collection = pd.concat(\n",
    "    [\n",
    "        pickle.load(\n",
    "            open(\n",
    "                f\"results/func_effect_shifts/by_comparison/{c}_fit_collection.pkl\", \"rb\"\n",
    "            )\n",
    "        )\n",
    "        for c in comparisons\n",
    "    ]\n",
    ").reset_index(drop=True)\n",
    "combined_fit_collection"
   ]
  },
  {
   "cell_type": "code",
   "execution_count": null,
   "id": "ac761307",
   "metadata": {},
   "outputs": [],
   "source": [
    "mc = multidms.ModelCollection(combined_fit_collection)"
   ]
  },
  {
   "cell_type": "markdown",
   "id": "3f4598b3-9c7d-4596-b1c5-a0cc61a5a202",
   "metadata": {
    "papermill": {
     "duration": 0.002093,
     "end_time": "2023-12-05T23:52:56.793403",
     "exception": false,
     "start_time": "2023-12-05T23:52:56.791310",
     "status": "completed"
    },
    "tags": []
   },
   "source": [
    "Plot correlation of shifts for each lasso shift, restricting to a minimum threshold `times_seen`, and not plotting shifts for wildtype residues.\n",
    "In general, you might hope to find a lasso shift that has relatively few non-zero shifts, and those are correlated among comparisons."
   ]
  },
  {
   "cell_type": "code",
   "execution_count": null,
   "id": "b850b0d6-f9f8-4a14-8650-ce08e8dd12c8",
   "metadata": {
    "execution": {
     "iopub.execute_input": "2023-12-05T23:52:56.798315Z",
     "iopub.status.busy": "2023-12-05T23:52:56.798128Z",
     "iopub.status.idle": "2023-12-05T23:53:01.222965Z",
     "shell.execute_reply": "2023-12-05T23:53:01.222343Z"
    },
    "papermill": {
     "duration": 4.428738,
     "end_time": "2023-12-05T23:53:01.224113",
     "exception": false,
     "start_time": "2023-12-05T23:52:56.795375",
     "status": "completed"
    },
    "tags": []
   },
   "outputs": [],
   "source": [
    "try:\n",
    "    times_seen = params[\"plot_kwargs\"][\"addtl_slider_stats\"][\"times_seen\"]\n",
    "except KeyError:\n",
    "    times_seen = 3\n",
    "\n",
    "\n",
    "sparsity_chart = mc.shift_sparsity(times_seen_threshold=times_seen, width_scalar=200)\n",
    "correlation_chart = mc.mut_param_dataset_correlation(\n",
    "    times_seen_threshold=times_seen, width_scalar=200\n",
    ")\n",
    "\n",
    "(sparsity_chart & correlation_chart).resolve_scale(color=\"independent\")"
   ]
  },
  {
   "cell_type": "markdown",
   "id": "14a65f65-87be-441d-81af-b46123144d71",
   "metadata": {
    "papermill": {
     "duration": 0.004284,
     "end_time": "2023-12-05T23:53:01.233380",
     "exception": false,
     "start_time": "2023-12-05T23:53:01.229096",
     "status": "completed"
    },
    "tags": []
   },
   "source": [
    "Now make an interactive plots of the shifts."
   ]
  },
  {
   "cell_type": "code",
   "execution_count": null,
   "id": "6e3aab38-ce7a-425b-b455-249117c9c03a",
   "metadata": {
    "papermill": {
     "duration": 0.012492,
     "end_time": "2023-12-05T23:53:02.747040",
     "exception": false,
     "start_time": "2023-12-05T23:53:02.734548",
     "status": "completed"
    },
    "tags": []
   },
   "outputs": [],
   "source": [
    "chart = mc.mut_param_heatmap(\n",
    "    times_seen_threshold=times_seen,\n",
    "    query=f\"scale_coeff_lasso_shift == {float(params['lasso_shift'])}\",\n",
    "    mut_param=\"shift\",\n",
    ")\n",
    "print(f\"Saving chart to {shifts_html}\")\n",
    "chart.save(shifts_html)\n",
    "chart"
   ]
  },
  {
   "cell_type": "markdown",
   "id": "6ba3dcf5",
   "metadata": {},
   "source": [
    "Now write out the averaged shifts to csv. "
   ]
  },
  {
   "cell_type": "code",
   "execution_count": null,
   "id": "2daa0918",
   "metadata": {},
   "outputs": [],
   "source": [
    "muts_df = mc.split_apply_combine_muts(\n",
    "    groupby=\"scale_coeff_lasso_shift\",  # we're averaging the results across all datasets in the following query,\n",
    "    query=f\"scale_coeff_lasso_shift == {float(params['lasso_shift'])}\",  # query on fit collection\n",
    "    aggregate_func=params[\"avg_method\"],  # how to combine fit collection muts,\n",
    "    inner_merge_dataset_muts=True,  # only keep muts that are in all datasets being combined\n",
    "    times_seen_threshold=times_seen,\n",
    ")\n",
    "parse_mut_fn = mc.fit_models.iloc[0].model.data.parse_mut\n",
    "muts_df[\"wildtype\"], muts_df[\"site\"], muts_df[\"mutant\"] = zip(\n",
    "    *muts_df.reset_index()[\"mutation\"].map(parse_mut_fn)\n",
    ")\n",
    "(\n",
    "    muts_df.reset_index()\n",
    "    .rename(columns={\"beta\": \"latent_phenotype_effect\"})\n",
    "    .sort_values(\"site\", key=natsort_keygen())\n",
    "    .to_csv(shifts_csv, index=False, float_format=\"%.4g\")\n",
    ")"
   ]
  }
 ],
 "metadata": {
  "kernelspec": {
   "display_name": "Python 3 (ipykernel)",
   "language": "python",
   "name": "python3"
  },
  "language_info": {
   "codemirror_mode": {
    "name": "ipython",
    "version": 3
   },
   "file_extension": ".py",
   "mimetype": "text/x-python",
   "name": "python",
   "nbconvert_exporter": "python",
   "pygments_lexer": "ipython3",
   "version": "3.11.6"
  },
  "papermill": {
   "default_parameters": {},
   "duration": 9.343945,
   "end_time": "2023-12-05T23:53:03.478612",
   "environment_variables": {},
   "exception": null,
   "input_path": "../notebooks/avg_func_effect_shifts.ipynb",
   "output_path": "results/notebooks/avg_func_effect_shifts_date_comparison.ipynb",
   "parameters": {
    "params": {
     "avg_method": "median",
     "comparisons": [
      "LibA-date_comparison-1",
      "LibA-date_comparison-2"
     ],
     "lasso_shift": 0.0001,
     "legend": "Interactive plot of shifts in effects of mutations. Negative values indicate mutations that\nhave shifted to become more deleterious; positive values indicate mutations shifted to\nbe more beneficial.\n\nUse the site zoom bar at the top to zoom in on specific sites. The line plot shows a summary\nstatistic indicating the effects of mutations at each site. The heat map shows the effects of\nindividual mutations, with parental amino-acid identities indicated by x and gray\nindicating non-measured mutations.\n\nYou can mouse over points to get details about individual measurements, including measurements\nin individual comparisons.\n\nThe options at the bottom of the plot let you modify the display, such as by selecting how\n many different variants a mutation must be seen in to be shown (*minimum times_seen*),\n how many different experimental comparisons the mutation was measured in\n(*minimum n_comparisons*), what site summary statistic to show, etc.\n",
     "per_comparison_tooltips": true,
     "plot_kwargs": {
      "addtl_slider_stats": {
       "times_seen": 3
      },
      "heatmap_max_at_least": 0.5,
      "heatmap_min_at_least": -0.5,
      "init_floor_at_zero": false,
      "init_site_statistic": "mean",
      "site_zoom_bar_color_col": "region",
      "slider_binding_range_kwargs": {
       "n_comparisons": {
        "step": 1
       },
       "times_seen": {
        "max": 25,
        "min": 1,
        "step": 1
       }
      }
     },
     "title": "Comparison of functional effects from different dates (just a toy example)"
    },
    "shifts_csv": "results/func_effect_shifts/averages/date_comparison_shifts.csv",
    "shifts_html": "results/func_effect_shifts/averages/date_comparison_shifts_nolegend.html",
    "site_numbering_map_csv": "data/site_numbering_map.csv"
   },
   "start_time": "2023-12-05T23:52:54.134667",
   "version": "2.4.0"
  }
 },
 "nbformat": 4,
 "nbformat_minor": 5
}
