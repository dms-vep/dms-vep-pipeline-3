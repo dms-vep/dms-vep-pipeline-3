{
 "cells": [
  {
   "cell_type": "markdown",
   "id": "0d931cc6-5d0d-4d76-b9af-22f22ca48bef",
   "metadata": {},
   "source": [
    "# Compare simple difference in functional effects across two conditions\n",
    "\n",
    "Import Python modules.\n",
    "We use `polyclonal` for the plotting:"
   ]
  },
  {
   "cell_type": "code",
   "execution_count": 1,
   "id": "cc5d2eab-1493-4bb9-ba3c-d421c760067d",
   "metadata": {
    "execution": {
     "iopub.execute_input": "2024-01-31T19:40:23.362434Z",
     "iopub.status.busy": "2024-01-31T19:40:23.361960Z",
     "iopub.status.idle": "2024-01-31T19:40:26.308636Z",
     "shell.execute_reply": "2024-01-31T19:40:26.307604Z",
     "shell.execute_reply.started": "2024-01-31T19:40:23.362390Z"
    }
   },
   "outputs": [],
   "source": [
    "import altair as alt\n",
    "\n",
    "import dms_variants.utils\n",
    "\n",
    "import pandas as pd\n",
    "\n",
    "import polyclonal\n",
    "import polyclonal.plot"
   ]
  },
  {
   "cell_type": "markdown",
   "id": "96f621c1-488c-4d80-a596-a6e044ec7098",
   "metadata": {},
   "source": [
    "This notebook is parameterized by `papermill`.\n",
    "The next cell is tagged as `parameters` to get the passed parameters."
   ]
  },
  {
   "cell_type": "code",
   "execution_count": 2,
   "id": "291ad7b9-ff97-4044-b5df-7ab37c54f541",
   "metadata": {
    "editable": true,
    "execution": {
     "iopub.execute_input": "2024-01-31T19:40:26.316835Z",
     "iopub.status.busy": "2024-01-31T19:40:26.316417Z",
     "iopub.status.idle": "2024-01-31T19:40:26.320850Z",
     "shell.execute_reply": "2024-01-31T19:40:26.320036Z",
     "shell.execute_reply.started": "2024-01-31T19:40:26.316797Z"
    },
    "slideshow": {
     "slide_type": ""
    },
    "tags": [
     "parameters"
    ]
   },
   "outputs": [],
   "source": [
    "# this cell is tagged parameters for `papermill` parameterization\n",
    "site_numbering_map_csv = None\n",
    "diffs_csv = None\n",
    "chart_html = None\n",
    "params = None"
   ]
  },
  {
   "cell_type": "code",
   "execution_count": 3,
   "id": "a16843fb-65f6-4754-abb8-74de7018934c",
   "metadata": {
    "execution": {
     "iopub.execute_input": "2024-01-31T19:40:26.325875Z",
     "iopub.status.busy": "2024-01-31T19:40:26.325285Z",
     "iopub.status.idle": "2024-01-31T19:40:26.339432Z",
     "shell.execute_reply": "2024-01-31T19:40:26.338694Z",
     "shell.execute_reply.started": "2024-01-31T19:40:26.325817Z"
    },
    "papermill": {
     "duration": 0.018038,
     "end_time": "2024-01-31T19:29:01.984676",
     "exception": false,
     "start_time": "2024-01-31T19:29:01.966638",
     "status": "completed"
    },
    "tags": [
     "injected-parameters"
    ]
   },
   "outputs": [],
   "source": [
    "# Parameters\n",
    "params = {\n",
    "    \"condition_1\": {\n",
    "        \"name\": 220210,\n",
    "        \"selections\": [\"LibA-220210-293T_ACE2-1\", \"LibA-220210-293T_ACE2-2\"],\n",
    "    },\n",
    "    \"condition_2\": {\n",
    "        \"name\": 220302,\n",
    "        \"selections\": [\"LibA-220302-293T_ACE2-1\", \"LibA-220302-293T_ACE2-2\"],\n",
    "    },\n",
    "    \"avg_method\": \"median\",\n",
    "    \"per_selection_tooltips\": True,\n",
    "    \"plot_kwargs\": {\n",
    "        \"addtl_slider_stats\": {\n",
    "            \"times_seen\": 3,\n",
    "            \"difference_std\": 2,\n",
    "            \"fraction_pairs_w_mutation\": 1,\n",
    "            \"min_best_effect\": -2,\n",
    "        },\n",
    "        \"addtl_slider_stats_hide_not_filter\": [\"min_best_effect\"],\n",
    "        \"addtl_slider_stats_as_max\": [\"difference_std\"],\n",
    "        \"heatmap_max_at_least\": 1,\n",
    "        \"heatmap_min_at_least\": -1,\n",
    "        \"init_floor_at_zero\": False,\n",
    "        \"init_site_statistic\": \"abs_mean\",\n",
    "        \"site_zoom_bar_color_col\": \"region\",\n",
    "        \"slider_binding_range_kwargs\": {\"times_seen\": {\"step\": 1, \"min\": 1, \"max\": 25}},\n",
    "    },\n",
    "    \"title\": \"Differences in mutation effects on 293T entry across days\",\n",
    "    \"legend\": \"LEGEND\\n\",\n",
    "}\n",
    "site_numbering_map_csv = \"data/site_numbering_map.csv\"\n",
    "diffs_csv = \"results/func_effect_diffs/220210_vs_220302_comparison_diffs.csv\"\n",
    "chart_html = \"results/func_effect_diffs/220210_vs_220302_comparison_diffs_nolegend.html\"\n",
    "\n",
    "import os\n",
    "os.chdir(\"../test_example\")"
   ]
  },
  {
   "cell_type": "markdown",
   "id": "d5e16682-97b3-4316-9d8e-d1ad973fcc84",
   "metadata": {},
   "source": [
    "Read the input data:"
   ]
  },
  {
   "cell_type": "code",
   "execution_count": 13,
   "id": "328c773e-0da3-4968-b043-ad4cf8b55a38",
   "metadata": {
    "execution": {
     "iopub.execute_input": "2024-01-31T19:56:39.385969Z",
     "iopub.status.busy": "2024-01-31T19:56:39.385602Z",
     "iopub.status.idle": "2024-01-31T19:56:39.486258Z",
     "shell.execute_reply": "2024-01-31T19:56:39.485502Z",
     "shell.execute_reply.started": "2024-01-31T19:56:39.385936Z"
    }
   },
   "outputs": [],
   "source": [
    "site_numbering_map = pd.read_csv(site_numbering_map_csv).rename(\n",
    "    columns={\"reference_site\": \"site\"}\n",
    ")\n",
    "assert site_numbering_map[[\"site\", \"sequential_site\"]].notnull().all().all()\n",
    "addtl_site_cols = [\n",
    "    c for c in site_numbering_map.columns if c != \"site\" and c.endswith(\"site\")\n",
    "]\n",
    "\n",
    "condition_1 = params[\"condition_1\"][\"name\"]\n",
    "condition_2 = params[\"condition_2\"][\"name\"]\n",
    "assert condition_1 != condition_2, f\"{condition_1=}, {condition_2=}\"\n",
    "condition_1_selections = params[\"condition_1\"][\"selections\"]\n",
    "condition_2_selections = params[\"condition_2\"][\"selections\"]\n",
    "assert len(condition_1_selections), params[\"condition_1\"]\n",
    "assert len(condition_2_selections), params[\"condition_2\"]\n",
    "if set(condition_1_selections).intersection(condition_2_selections):\n",
    "    raise ValueError(\n",
    "        f\"shared selections in {condition_1_selections=} and {condition_2_selections=}\"\n",
    "    )\n",
    "\n",
    "dfs = []\n",
    "for c, sels in [\n",
    "    (condition_1, condition_1_selections),\n",
    "    (condition_2, condition_2_selections),\n",
    "]:\n",
    "    for s in sels:\n",
    "        dfs.append(\n",
    "            pd.read_csv(f\"results/func_effects/by_selection/{s}_func_effects.csv\")\n",
    "            .assign(\n",
    "                selection=s,\n",
    "                condition=c,\n",
    "                times_seen=lambda x: x[\"times_seen\"].astype(\"Int64\"),\n",
    "                mutation=lambda x: x[\"wildtype\"] + x[\"site\"].astype(str) + x[\"mutant\"],\n",
    "            )\n",
    "        )\n",
    "func_effects = pd.concat(dfs, ignore_index=True)"
   ]
  },
  {
   "cell_type": "markdown",
   "id": "314627cf-81a8-45e4-8b1b-f35f5a610a48",
   "metadata": {
    "execution": {
     "iopub.execute_input": "2024-01-31T19:44:45.827511Z",
     "iopub.status.busy": "2024-01-31T19:44:45.826944Z",
     "iopub.status.idle": "2024-01-31T19:44:45.859400Z",
     "shell.execute_reply": "2024-01-31T19:44:45.858595Z",
     "shell.execute_reply.started": "2024-01-31T19:44:45.827464Z"
    }
   },
   "source": [
    "## Correlations among all selections\n",
    "Compute the correlations in the mutation effects across all selections:"
   ]
  },
  {
   "cell_type": "code",
   "execution_count": 22,
   "id": "f5731ad3-861c-41fa-95e6-7c0622ea6178",
   "metadata": {
    "execution": {
     "iopub.execute_input": "2024-01-31T20:00:50.085696Z",
     "iopub.status.busy": "2024-01-31T20:00:50.085082Z",
     "iopub.status.idle": "2024-01-31T20:00:50.253533Z",
     "shell.execute_reply": "2024-01-31T20:00:50.252829Z",
     "shell.execute_reply.started": "2024-01-31T20:00:50.085638Z"
    }
   },
   "outputs": [
    {
     "data": {
      "text/html": [
       "\n",
       "<style>\n",
       "  #altair-viz-42875c415862426fb8b7979a42ddddf0.vega-embed {\n",
       "    width: 100%;\n",
       "    display: flex;\n",
       "  }\n",
       "\n",
       "  #altair-viz-42875c415862426fb8b7979a42ddddf0.vega-embed details,\n",
       "  #altair-viz-42875c415862426fb8b7979a42ddddf0.vega-embed details summary {\n",
       "    position: relative;\n",
       "  }\n",
       "</style>\n",
       "<div id=\"altair-viz-42875c415862426fb8b7979a42ddddf0\"></div>\n",
       "<script type=\"text/javascript\">\n",
       "  var VEGA_DEBUG = (typeof VEGA_DEBUG == \"undefined\") ? {} : VEGA_DEBUG;\n",
       "  (function(spec, embedOpt){\n",
       "    let outputDiv = document.currentScript.previousElementSibling;\n",
       "    if (outputDiv.id !== \"altair-viz-42875c415862426fb8b7979a42ddddf0\") {\n",
       "      outputDiv = document.getElementById(\"altair-viz-42875c415862426fb8b7979a42ddddf0\");\n",
       "    }\n",
       "    const paths = {\n",
       "      \"vega\": \"https://cdn.jsdelivr.net/npm/vega@5?noext\",\n",
       "      \"vega-lib\": \"https://cdn.jsdelivr.net/npm/vega-lib?noext\",\n",
       "      \"vega-lite\": \"https://cdn.jsdelivr.net/npm/vega-lite@5.16.3?noext\",\n",
       "      \"vega-embed\": \"https://cdn.jsdelivr.net/npm/vega-embed@6?noext\",\n",
       "    };\n",
       "\n",
       "    function maybeLoadScript(lib, version) {\n",
       "      var key = `${lib.replace(\"-\", \"\")}_version`;\n",
       "      return (VEGA_DEBUG[key] == version) ?\n",
       "        Promise.resolve(paths[lib]) :\n",
       "        new Promise(function(resolve, reject) {\n",
       "          var s = document.createElement('script');\n",
       "          document.getElementsByTagName(\"head\")[0].appendChild(s);\n",
       "          s.async = true;\n",
       "          s.onload = () => {\n",
       "            VEGA_DEBUG[key] = version;\n",
       "            return resolve(paths[lib]);\n",
       "          };\n",
       "          s.onerror = () => reject(`Error loading script: ${paths[lib]}`);\n",
       "          s.src = paths[lib];\n",
       "        });\n",
       "    }\n",
       "\n",
       "    function showError(err) {\n",
       "      outputDiv.innerHTML = `<div class=\"error\" style=\"color:red;\">${err}</div>`;\n",
       "      throw err;\n",
       "    }\n",
       "\n",
       "    function displayChart(vegaEmbed) {\n",
       "      vegaEmbed(outputDiv, spec, embedOpt)\n",
       "        .catch(err => showError(`Javascript Error: ${err.message}<br>This usually means there's a typo in your chart specification. See the javascript console for the full traceback.`));\n",
       "    }\n",
       "\n",
       "    if(typeof define === \"function\" && define.amd) {\n",
       "      requirejs.config({paths});\n",
       "      require([\"vega-embed\"], displayChart, err => showError(`Error loading script: ${err.message}`));\n",
       "    } else {\n",
       "      maybeLoadScript(\"vega\", \"5\")\n",
       "        .then(() => maybeLoadScript(\"vega-lite\", \"5.16.3\"))\n",
       "        .then(() => maybeLoadScript(\"vega-embed\", \"6\"))\n",
       "        .catch(showError)\n",
       "        .then(() => displayChart(vegaEmbed));\n",
       "    }\n",
       "  })({\"config\": {\"view\": {\"continuousWidth\": 300, \"continuousHeight\": 300}, \"axis\": {\"labelLimit\": 500}}, \"data\": {\"name\": \"data-1bc9f624c0dd7158b5282330552edf5a\"}, \"mark\": {\"type\": \"rect\", \"stroke\": \"black\"}, \"encoding\": {\"color\": {\"field\": \"r2\", \"scale\": {\"zero\": true}, \"type\": \"quantitative\"}, \"column\": {\"field\": \"min_times_seen\", \"title\": null, \"type\": \"nominal\"}, \"tooltip\": [{\"field\": \"selection_1\", \"type\": \"nominal\"}, {\"field\": \"selection_2\", \"type\": \"nominal\"}, {\"field\": \"r2\", \"format\": \".3g\", \"type\": \"quantitative\"}, {\"field\": \"r\", \"format\": \".3g\", \"type\": \"quantitative\"}], \"x\": {\"field\": \"selection_1\", \"title\": null, \"type\": \"nominal\"}, \"y\": {\"field\": \"selection_2\", \"title\": null, \"type\": \"nominal\"}}, \"height\": {\"step\": 15}, \"title\": \"Per-selection correlation in mutation functional effects\", \"width\": {\"step\": 15}, \"$schema\": \"https://vega.github.io/schema/vega-lite/v5.16.3.json\", \"datasets\": {\"data-1bc9f624c0dd7158b5282330552edf5a\": [{\"min_times_seen\": \"min times seen 1\", \"selection_1\": \"LibA-220210-293T_ACE2-1\", \"selection_2\": \"LibA-220210-293T_ACE2-1\", \"r\": 1.0, \"r2\": 1.0}, {\"min_times_seen\": \"min times seen 1\", \"selection_1\": \"LibA-220210-293T_ACE2-2\", \"selection_2\": \"LibA-220210-293T_ACE2-1\", \"r\": 0.6369063292768874, \"r2\": 0.4056496722729589}, {\"min_times_seen\": \"min times seen 1\", \"selection_1\": \"LibA-220302-293T_ACE2-1\", \"selection_2\": \"LibA-220210-293T_ACE2-1\", \"r\": 0.7920933759741062, \"r2\": 0.6274119162620568}, {\"min_times_seen\": \"min times seen 1\", \"selection_1\": \"LibA-220302-293T_ACE2-2\", \"selection_2\": \"LibA-220210-293T_ACE2-1\", \"r\": 0.6203477052094837, \"r2\": 0.38483127535867245}, {\"min_times_seen\": \"min times seen 3\", \"selection_1\": \"LibA-220210-293T_ACE2-1\", \"selection_2\": \"LibA-220210-293T_ACE2-1\", \"r\": 1.0, \"r2\": 1.0}, {\"min_times_seen\": \"min times seen 3\", \"selection_1\": \"LibA-220210-293T_ACE2-2\", \"selection_2\": \"LibA-220210-293T_ACE2-1\", \"r\": 0.6779485863183791, \"r2\": 0.4596142856910887}, {\"min_times_seen\": \"min times seen 3\", \"selection_1\": \"LibA-220302-293T_ACE2-1\", \"selection_2\": \"LibA-220210-293T_ACE2-1\", \"r\": 0.7999089012739299, \"r2\": 0.6398542503372657}, {\"min_times_seen\": \"min times seen 3\", \"selection_1\": \"LibA-220302-293T_ACE2-2\", \"selection_2\": \"LibA-220210-293T_ACE2-1\", \"r\": 0.6664021870229925, \"r2\": 0.44409187486902746}, {\"min_times_seen\": \"min times seen 6\", \"selection_1\": \"LibA-220210-293T_ACE2-1\", \"selection_2\": \"LibA-220210-293T_ACE2-1\", \"r\": 1.0, \"r2\": 1.0}, {\"min_times_seen\": \"min times seen 6\", \"selection_1\": \"LibA-220210-293T_ACE2-2\", \"selection_2\": \"LibA-220210-293T_ACE2-1\", \"r\": 0.7071283138773918, \"r2\": 0.5000304522870832}, {\"min_times_seen\": \"min times seen 6\", \"selection_1\": \"LibA-220302-293T_ACE2-1\", \"selection_2\": \"LibA-220210-293T_ACE2-1\", \"r\": 0.7515366335948094, \"r2\": 0.5648073116350187}, {\"min_times_seen\": \"min times seen 6\", \"selection_1\": \"LibA-220302-293T_ACE2-2\", \"selection_2\": \"LibA-220210-293T_ACE2-1\", \"r\": 0.6615833241681627, \"r2\": 0.43769249481739625}, {\"min_times_seen\": \"min times seen 1\", \"selection_1\": \"LibA-220210-293T_ACE2-1\", \"selection_2\": \"LibA-220210-293T_ACE2-2\", \"r\": 0.6369063292768874, \"r2\": 0.4056496722729589}, {\"min_times_seen\": \"min times seen 1\", \"selection_1\": \"LibA-220210-293T_ACE2-2\", \"selection_2\": \"LibA-220210-293T_ACE2-2\", \"r\": 1.0, \"r2\": 1.0}, {\"min_times_seen\": \"min times seen 1\", \"selection_1\": \"LibA-220302-293T_ACE2-1\", \"selection_2\": \"LibA-220210-293T_ACE2-2\", \"r\": 0.6433241404470799, \"r2\": 0.41386594968197415}, {\"min_times_seen\": \"min times seen 1\", \"selection_1\": \"LibA-220302-293T_ACE2-2\", \"selection_2\": \"LibA-220210-293T_ACE2-2\", \"r\": 0.7883196438381234, \"r2\": 0.6214478608610656}, {\"min_times_seen\": \"min times seen 3\", \"selection_1\": \"LibA-220210-293T_ACE2-1\", \"selection_2\": \"LibA-220210-293T_ACE2-2\", \"r\": 0.6779485863183791, \"r2\": 0.4596142856910887}, {\"min_times_seen\": \"min times seen 3\", \"selection_1\": \"LibA-220210-293T_ACE2-2\", \"selection_2\": \"LibA-220210-293T_ACE2-2\", \"r\": 1.0, \"r2\": 1.0}, {\"min_times_seen\": \"min times seen 3\", \"selection_1\": \"LibA-220302-293T_ACE2-1\", \"selection_2\": \"LibA-220210-293T_ACE2-2\", \"r\": 0.6872956531562933, \"r2\": 0.47237531484753575}, {\"min_times_seen\": \"min times seen 3\", \"selection_1\": \"LibA-220302-293T_ACE2-2\", \"selection_2\": \"LibA-220210-293T_ACE2-2\", \"r\": 0.7975306893212476, \"r2\": 0.6360552004092244}, {\"min_times_seen\": \"min times seen 6\", \"selection_1\": \"LibA-220210-293T_ACE2-1\", \"selection_2\": \"LibA-220210-293T_ACE2-2\", \"r\": 0.7071283138773918, \"r2\": 0.5000304522870832}, {\"min_times_seen\": \"min times seen 6\", \"selection_1\": \"LibA-220210-293T_ACE2-2\", \"selection_2\": \"LibA-220210-293T_ACE2-2\", \"r\": 1.0, \"r2\": 1.0}, {\"min_times_seen\": \"min times seen 6\", \"selection_1\": \"LibA-220302-293T_ACE2-1\", \"selection_2\": \"LibA-220210-293T_ACE2-2\", \"r\": 0.6802940829326171, \"r2\": 0.46280003927313046}, {\"min_times_seen\": \"min times seen 6\", \"selection_1\": \"LibA-220302-293T_ACE2-2\", \"selection_2\": \"LibA-220210-293T_ACE2-2\", \"r\": 0.7684488716419123, \"r2\": 0.5905136683277282}, {\"min_times_seen\": \"min times seen 1\", \"selection_1\": \"LibA-220210-293T_ACE2-1\", \"selection_2\": \"LibA-220302-293T_ACE2-1\", \"r\": 0.7920933759741062, \"r2\": 0.6274119162620568}, {\"min_times_seen\": \"min times seen 1\", \"selection_1\": \"LibA-220210-293T_ACE2-2\", \"selection_2\": \"LibA-220302-293T_ACE2-1\", \"r\": 0.6433241404470799, \"r2\": 0.41386594968197415}, {\"min_times_seen\": \"min times seen 1\", \"selection_1\": \"LibA-220302-293T_ACE2-1\", \"selection_2\": \"LibA-220302-293T_ACE2-1\", \"r\": 1.0, \"r2\": 1.0}, {\"min_times_seen\": \"min times seen 1\", \"selection_1\": \"LibA-220302-293T_ACE2-2\", \"selection_2\": \"LibA-220302-293T_ACE2-1\", \"r\": 0.6300160134842377, \"r2\": 0.39692017724657125}, {\"min_times_seen\": \"min times seen 3\", \"selection_1\": \"LibA-220210-293T_ACE2-1\", \"selection_2\": \"LibA-220302-293T_ACE2-1\", \"r\": 0.7999089012739299, \"r2\": 0.6398542503372657}, {\"min_times_seen\": \"min times seen 3\", \"selection_1\": \"LibA-220210-293T_ACE2-2\", \"selection_2\": \"LibA-220302-293T_ACE2-1\", \"r\": 0.6872956531562933, \"r2\": 0.47237531484753575}, {\"min_times_seen\": \"min times seen 3\", \"selection_1\": \"LibA-220302-293T_ACE2-1\", \"selection_2\": \"LibA-220302-293T_ACE2-1\", \"r\": 1.0, \"r2\": 1.0}, {\"min_times_seen\": \"min times seen 3\", \"selection_1\": \"LibA-220302-293T_ACE2-2\", \"selection_2\": \"LibA-220302-293T_ACE2-1\", \"r\": 0.6794287862091796, \"r2\": 0.46162347552967903}, {\"min_times_seen\": \"min times seen 6\", \"selection_1\": \"LibA-220210-293T_ACE2-1\", \"selection_2\": \"LibA-220302-293T_ACE2-1\", \"r\": 0.7515366335948094, \"r2\": 0.5648073116350187}, {\"min_times_seen\": \"min times seen 6\", \"selection_1\": \"LibA-220210-293T_ACE2-2\", \"selection_2\": \"LibA-220302-293T_ACE2-1\", \"r\": 0.6802940829326171, \"r2\": 0.46280003927313046}, {\"min_times_seen\": \"min times seen 6\", \"selection_1\": \"LibA-220302-293T_ACE2-1\", \"selection_2\": \"LibA-220302-293T_ACE2-1\", \"r\": 1.0, \"r2\": 1.0}, {\"min_times_seen\": \"min times seen 6\", \"selection_1\": \"LibA-220302-293T_ACE2-2\", \"selection_2\": \"LibA-220302-293T_ACE2-1\", \"r\": 0.6761399341989157, \"r2\": 0.45716521061851406}, {\"min_times_seen\": \"min times seen 1\", \"selection_1\": \"LibA-220210-293T_ACE2-1\", \"selection_2\": \"LibA-220302-293T_ACE2-2\", \"r\": 0.6203477052094837, \"r2\": 0.38483127535867245}, {\"min_times_seen\": \"min times seen 1\", \"selection_1\": \"LibA-220210-293T_ACE2-2\", \"selection_2\": \"LibA-220302-293T_ACE2-2\", \"r\": 0.7883196438381234, \"r2\": 0.6214478608610656}, {\"min_times_seen\": \"min times seen 1\", \"selection_1\": \"LibA-220302-293T_ACE2-1\", \"selection_2\": \"LibA-220302-293T_ACE2-2\", \"r\": 0.6300160134842377, \"r2\": 0.39692017724657125}, {\"min_times_seen\": \"min times seen 1\", \"selection_1\": \"LibA-220302-293T_ACE2-2\", \"selection_2\": \"LibA-220302-293T_ACE2-2\", \"r\": 1.0, \"r2\": 1.0}, {\"min_times_seen\": \"min times seen 3\", \"selection_1\": \"LibA-220210-293T_ACE2-1\", \"selection_2\": \"LibA-220302-293T_ACE2-2\", \"r\": 0.6664021870229925, \"r2\": 0.44409187486902746}, {\"min_times_seen\": \"min times seen 3\", \"selection_1\": \"LibA-220210-293T_ACE2-2\", \"selection_2\": \"LibA-220302-293T_ACE2-2\", \"r\": 0.7975306893212476, \"r2\": 0.6360552004092244}, {\"min_times_seen\": \"min times seen 3\", \"selection_1\": \"LibA-220302-293T_ACE2-1\", \"selection_2\": \"LibA-220302-293T_ACE2-2\", \"r\": 0.6794287862091796, \"r2\": 0.46162347552967903}, {\"min_times_seen\": \"min times seen 3\", \"selection_1\": \"LibA-220302-293T_ACE2-2\", \"selection_2\": \"LibA-220302-293T_ACE2-2\", \"r\": 1.0, \"r2\": 1.0}, {\"min_times_seen\": \"min times seen 6\", \"selection_1\": \"LibA-220210-293T_ACE2-1\", \"selection_2\": \"LibA-220302-293T_ACE2-2\", \"r\": 0.6615833241681627, \"r2\": 0.43769249481739625}, {\"min_times_seen\": \"min times seen 6\", \"selection_1\": \"LibA-220210-293T_ACE2-2\", \"selection_2\": \"LibA-220302-293T_ACE2-2\", \"r\": 0.7684488716419123, \"r2\": 0.5905136683277282}, {\"min_times_seen\": \"min times seen 6\", \"selection_1\": \"LibA-220302-293T_ACE2-1\", \"selection_2\": \"LibA-220302-293T_ACE2-2\", \"r\": 0.6761399341989157, \"r2\": 0.45716521061851406}, {\"min_times_seen\": \"min times seen 6\", \"selection_1\": \"LibA-220302-293T_ACE2-2\", \"selection_2\": \"LibA-220302-293T_ACE2-2\", \"r\": 1.0, \"r2\": 1.0}]}}, {\"mode\": \"vega-lite\"});\n",
       "</script>"
      ],
      "text/plain": [
       "alt.Chart(...)"
      ]
     },
     "metadata": {},
     "output_type": "display_data"
    },
    {
     "name": "stdout",
     "output_type": "stream",
     "text": [
      "\n",
      "Selections for 220210: ['LibA-220210-293T_ACE2-1', 'LibA-220210-293T_ACE2-2']\n",
      "Selections for 220302: ['LibA-220302-293T_ACE2-1', 'LibA-220302-293T_ACE2-2']\n",
      "\n"
     ]
    }
   ],
   "source": [
    "# We compute for several times seen values, get those:\n",
    "try:\n",
    "    init_times_seen = params[\"plot_kwargs\"][\"addtl_slider_stats\"][\"times_seen\"]\n",
    "except KeyError:\n",
    "    print(\"No times seen in params, using a value of 3\")\n",
    "    init_times_seen = 3\n",
    "\n",
    "# do analysis for each \"times_seen\"\n",
    "func_effects_for_corr = pd.concat(\n",
    "    [\n",
    "        func_effects.query(\"times_seen >= @t\", engine=\"python\").assign(min_times_seen=t)\n",
    "        for t in [1, init_times_seen, 2 * init_times_seen]\n",
    "    ]\n",
    ")\n",
    "\n",
    "corrs = (\n",
    "    dms_variants.utils.tidy_to_corr(\n",
    "        df=func_effects_for_corr,\n",
    "        sample_col=\"selection\",\n",
    "        label_col=\"mutation\",\n",
    "        value_col=\"functional_effect\",\n",
    "        group_cols=[\"min_times_seen\"],\n",
    "    )\n",
    "    .assign(\n",
    "        r2=lambda x: x[\"correlation\"] ** 2,\n",
    "        min_times_seen=lambda x: \"min times seen \" + x[\"min_times_seen\"].astype(str)\n",
    "    )\n",
    "    .rename(columns={\"correlation\": \"r\"})\n",
    ")\n",
    "\n",
    "corr_chart = (\n",
    "    alt.Chart(corrs)\n",
    "    .encode(\n",
    "        alt.X(\"selection_1\", title=None),\n",
    "        alt.Y(\"selection_2\", title=None),\n",
    "        column=alt.Column(\"min_times_seen\", title=None),\n",
    "        color=alt.Color(\"r2\", scale=alt.Scale(zero=True)),\n",
    "        tooltip=[\n",
    "            alt.Tooltip(c, format=\".3g\") if c in {\"r2\", \"r\"} else c\n",
    "            for c in [\"selection_1\", \"selection_2\", \"r2\", \"r\"]\n",
    "        ],\n",
    "    )\n",
    "    .mark_rect(stroke=\"black\")\n",
    "    .properties(\n",
    "        width=alt.Step(15),\n",
    "        height=alt.Step(15),\n",
    "        title=\"Per-selection correlation in mutation functional effects\",\n",
    "    )\n",
    "    .configure_axis(labelLimit=500)\n",
    ")\n",
    "\n",
    "display(corr_chart)\n",
    "\n",
    "print(\n",
    "    f\"\\nSelections for {condition_1}: {condition_1_selections}\\n\"\n",
    "    f\"Selections for {condition_2}: {condition_2_selections}\\n\"\n",
    ")"
   ]
  },
  {
   "cell_type": "markdown",
   "id": "564464c9-8f19-4541-b22c-2fd35fcc883f",
   "metadata": {},
   "source": [
    "## Average functional effects for each condition\n",
    "Average the functional effects for each condition using the specified averaging method, then print the correlation between these average functional effects at several times seen:"
   ]
  },
  {
   "cell_type": "code",
   "execution_count": 30,
   "id": "dd22c88d-6984-4b1d-9ce5-85166af6be26",
   "metadata": {
    "execution": {
     "iopub.execute_input": "2024-01-31T20:15:10.634516Z",
     "iopub.status.busy": "2024-01-31T20:15:10.633917Z",
     "iopub.status.idle": "2024-01-31T20:15:10.753293Z",
     "shell.execute_reply": "2024-01-31T20:15:10.752525Z",
     "shell.execute_reply.started": "2024-01-31T20:15:10.634459Z"
    }
   },
   "outputs": [
    {
     "name": "stdout",
     "output_type": "stream",
     "text": [
      "Correlation between average functional effects across conditions:\n"
     ]
    },
    {
     "data": {
      "text/html": [
       "<div>\n",
       "<style scoped>\n",
       "    .dataframe tbody tr th:only-of-type {\n",
       "        vertical-align: middle;\n",
       "    }\n",
       "\n",
       "    .dataframe tbody tr th {\n",
       "        vertical-align: top;\n",
       "    }\n",
       "\n",
       "    .dataframe thead th {\n",
       "        text-align: right;\n",
       "    }\n",
       "</style>\n",
       "<table border=\"1\" class=\"dataframe\">\n",
       "  <thead>\n",
       "    <tr style=\"text-align: right;\">\n",
       "      <th></th>\n",
       "      <th>condition_1</th>\n",
       "      <th>condition_2</th>\n",
       "      <th>r</th>\n",
       "      <th>r2</th>\n",
       "    </tr>\n",
       "    <tr>\n",
       "      <th>min_times_seen</th>\n",
       "      <th></th>\n",
       "      <th></th>\n",
       "      <th></th>\n",
       "      <th></th>\n",
       "    </tr>\n",
       "  </thead>\n",
       "  <tbody>\n",
       "    <tr>\n",
       "      <th>min times seen 1</th>\n",
       "      <td>220302</td>\n",
       "      <td>220210</td>\n",
       "      <td>0.867</td>\n",
       "      <td>0.752</td>\n",
       "    </tr>\n",
       "    <tr>\n",
       "      <th>min times seen 3</th>\n",
       "      <td>220302</td>\n",
       "      <td>220210</td>\n",
       "      <td>0.879</td>\n",
       "      <td>0.773</td>\n",
       "    </tr>\n",
       "    <tr>\n",
       "      <th>min times seen 6</th>\n",
       "      <td>220302</td>\n",
       "      <td>220210</td>\n",
       "      <td>0.848</td>\n",
       "      <td>0.718</td>\n",
       "    </tr>\n",
       "  </tbody>\n",
       "</table>\n",
       "</div>"
      ],
      "text/plain": [
       "                  condition_1 condition_2      r     r2\n",
       "min_times_seen                                         \n",
       "min times seen 1       220302      220210  0.867  0.752\n",
       "min times seen 3       220302      220210  0.879  0.773\n",
       "min times seen 6       220302      220210  0.848  0.718"
      ]
     },
     "metadata": {},
     "output_type": "display_data"
    }
   ],
   "source": [
    "avg_method = params[\"avg_method\"]\n",
    "assert avg_method in {\"mean\", \"median\"}, avg_method\n",
    "\n",
    "avg_func_effects = (\n",
    "    func_effects\n",
    "    .groupby([\"condition\", \"site\", \"wildtype\", \"mutant\", \"mutation\"], as_index=False)\n",
    "    .aggregate(\n",
    "        effect=pd.NamedAgg(\"functional_effect\", avg_method),\n",
    "        times_seen=pd.NamedAgg(\"times_seen\", \"sum\"),\n",
    "        n_selections=pd.NamedAgg(\"site\", \"count\"),\n",
    "    )\n",
    "    .assign(\n",
    "        times_seen=lambda x: (x[\"times_seen\"] / x[\"n_selections\"]).where(\n",
    "            x[\"mutant\"] != x[\"wildtype\"],\n",
    "            pd.NA,\n",
    "        )\n",
    "    )\n",
    ")\n",
    "\n",
    "avg_func_effects_for_corr = pd.concat(\n",
    "    [\n",
    "        avg_func_effects.query(\"times_seen >= @t\", engine=\"python\").assign(min_times_seen=t)\n",
    "        for t in [1, init_times_seen, 2 * init_times_seen]\n",
    "    ]\n",
    ")\n",
    "print(\"Correlation between average functional effects across conditions:\")\n",
    "display(\n",
    "    dms_variants.utils.tidy_to_corr(\n",
    "        df=avg_func_effects_for_corr,\n",
    "        sample_col=\"condition\",\n",
    "        label_col=\"mutation\",\n",
    "        value_col=\"effect\",\n",
    "        group_cols=[\"min_times_seen\"],\n",
    "    )\n",
    "    .assign(\n",
    "        r2=lambda x: x[\"correlation\"] ** 2,\n",
    "        min_times_seen=lambda x: \"min times seen \" + x[\"min_times_seen\"].astype(str)\n",
    "    )\n",
    "    .rename(columns={\"correlation\": \"r\"})\n",
    "    .query(\"condition_1 != condition_2\")\n",
    "    .reset_index(drop=True)\n",
    "    .groupby(\"min_times_seen\")\n",
    "    .first()\n",
    "    .round(3)\n",
    ")"
   ]
  },
  {
   "cell_type": "code",
   "execution_count": null,
   "id": "c6394976-c4c9-4762-bd0f-37c88b02e8cc",
   "metadata": {},
   "outputs": [],
   "source": []
  }
 ],
 "metadata": {
  "kernelspec": {
   "display_name": "Python 3 (ipykernel)",
   "language": "python",
   "name": "python3"
  },
  "language_info": {
   "codemirror_mode": {
    "name": "ipython",
    "version": 3
   },
   "file_extension": ".py",
   "mimetype": "text/x-python",
   "name": "python",
   "nbconvert_exporter": "python",
   "pygments_lexer": "ipython3",
   "version": "3.11.7"
  }
 },
 "nbformat": 4,
 "nbformat_minor": 5
}
