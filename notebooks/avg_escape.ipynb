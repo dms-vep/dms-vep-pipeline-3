{
 "cells": [
  {
   "cell_type": "markdown",
   "id": "cd032799-f956-4da8-baad-43dff0af1046",
   "metadata": {},
   "source": [
    "# Average mutational effects for an antibody/serum, or receptor affinity from soluble receptor neutralization\n",
    "This notebook averages selections that measure escape from neutralization by an antibody or serum, or receptor-affinity from neutralization by soluble receptor.\n",
    "In\n",
    "\n",
    "Import Python modules.\n",
    "We use `polyclonal` for the averaging and plotting:"
   ]
  },
  {
   "cell_type": "code",
   "execution_count": null,
   "id": "6653d04b-720e-4959-a8d8-006ce97190b6",
   "metadata": {},
   "outputs": [],
   "source": [
    "import pickle\n",
    "\n",
    "import altair as alt\n",
    "\n",
    "import pandas as pd\n",
    "\n",
    "import polyclonal\n",
    "\n",
    "_ = alt.data_transformers.disable_max_rows()"
   ]
  },
  {
   "cell_type": "markdown",
   "id": "0276731c-0a6f-4820-9edb-b61ab1e2ace8",
   "metadata": {},
   "source": [
    "This notebook is parameterized by `papermill`.\n",
    "The next cell is tagged as `parameters` to get the passed parameters."
   ]
  },
  {
   "cell_type": "code",
   "execution_count": null,
   "id": "9ddd6a5a-5e55-4386-872b-ad9ce2af3d19",
   "metadata": {
    "editable": true,
    "tags": [
     "parameters"
    ]
   },
   "outputs": [],
   "source": [
    "# this cell is tagged parameters for `papermill` parameterization\n",
    "assay = None\n",
    "site_numbering_map_csv = None\n",
    "prob_escape_mean_csvs = None\n",
    "pickles = None\n",
    "avg_pickle_file = None\n",
    "effect_csv = None\n",
    "icXX_csv = None\n",
    "effect_html = None\n",
    "icXX_html = None\n",
    "params = None"
   ]
  },
  {
   "cell_type": "code",
   "execution_count": null,
   "id": "f4685107-972e-443e-aaea-ada3aaa0763d",
   "metadata": {},
   "outputs": [],
   "source": [
    "print(f\"Analyzing results for {assay=}\")"
   ]
  },
  {
   "cell_type": "markdown",
   "id": "4af522cf-1fdb-4bc4-99d4-c40a8b518c4f",
   "metadata": {},
   "source": [
    "Read the input data and parameters:"
   ]
  },
  {
   "cell_type": "code",
   "execution_count": null,
   "id": "8daae31f-aa32-4a11-a3ee-64464b0ea907",
   "metadata": {},
   "outputs": [],
   "source": [
    "site_numbering_map = pd.read_csv(site_numbering_map_csv).rename(\n",
    "    columns={\"reference_site\": \"site\"}\n",
    ")\n",
    "\n",
    "assert len(params[\"selections\"]) == len(set(params[\"selections\"]))\n",
    "\n",
    "# read Polyclonal models into a data frame that can be passed to PolyclonalAverage\n",
    "models_df = pd.DataFrame(\n",
    "    [(s, pickle.load(open(f, \"rb\"))) for s, f in zip(params[\"selections\"], pickles)],\n",
    "    columns=[\"selection\", \"model\"],\n",
    ")\n",
    "\n",
    "# read prob_escape means all into one data frame\n",
    "prob_escape_means = pd.concat(\n",
    "    [\n",
    "        pd.read_csv(f).assign(selection=s)\n",
    "        for s, f in zip(params[\"selections\"], prob_escape_mean_csvs)\n",
    "    ],\n",
    "    ignore_index=True,\n",
    ")\n",
    "\n",
    "# get the plot kwargs\n",
    "escape_plot_kwargs = params[\"escape_plot_kwargs\"]"
   ]
  },
  {
   "cell_type": "markdown",
   "id": "18607e61-1731-46eb-a540-0339ee73cd6c",
   "metadata": {},
   "source": [
    "## Neutralization at concentrations used for each selection\n",
    "For each selection going into the average, plot the average fraction neutralization (probability of escape) of variants with different numbers of mutations, both for the censored values used to fit the models and the uncensored values.\n",
    "Note the concentrations **not** used in the model fits are shown fainter and in a different shape:"
   ]
  },
  {
   "cell_type": "code",
   "execution_count": null,
   "id": "dfb210e6-dc0e-4f06-8223-bcca23ea5fba",
   "metadata": {},
   "outputs": [],
   "source": [
    "mean_prob_escape_chart = (\n",
    "    alt.Chart(prob_escape_means)\n",
    "    .encode(\n",
    "        x=alt.X(\"concentration\", scale=alt.Scale(type=\"log\")),\n",
    "        y=alt.Y(\n",
    "            \"probability escape\",\n",
    "            scale=(\n",
    "                alt.Scale(type=\"symlog\", constant=0.04)\n",
    "                if assay == \"antibody_escape\"\n",
    "                else alt.Scale()\n",
    "            ),\n",
    "        ),\n",
    "        column=alt.Column(\n",
    "            \"censored\",\n",
    "            title=None,\n",
    "            header=alt.Header(labelFontWeight=\"bold\", labelFontSize=10),\n",
    "        ),\n",
    "        row=alt.Row(\n",
    "            \"selection\",\n",
    "            title=None,\n",
    "            header=alt.Header(labelFontWeight=\"bold\", labelFontSize=10),\n",
    "        ),\n",
    "        color=alt.Color(\"n_substitutions\"),\n",
    "        tooltip=[\n",
    "            alt.Tooltip(c, format=\".3g\") if c == \"probability escape\" else c\n",
    "            for c in prob_escape_means.columns\n",
    "        ],\n",
    "        shape=alt.Shape(\"use_in_fit\", scale=alt.Scale(domain=[True, False])),\n",
    "        opacity=alt.Opacity(\n",
    "            \"use_in_fit\", scale=alt.Scale(domain=[True, False], range=[0.9, 0.3])\n",
    "        ),\n",
    "    )\n",
    "    .mark_line(point=True, size=0.75, opacity=0.8)\n",
    "    .properties(width=230, height=145)\n",
    "    .configure_axis(grid=False)\n",
    "    .configure_point(size=50)\n",
    ")\n",
    "\n",
    "mean_prob_escape_chart"
   ]
  },
  {
   "cell_type": "markdown",
   "id": "9dc78879-3df7-4d1e-bdfc-e4acef272f5d",
   "metadata": {},
   "source": [
    "## Average mutation effects\n",
    "First build a `PolyclonalAverage`:"
   ]
  },
  {
   "cell_type": "code",
   "execution_count": null,
   "id": "9e726b4d-9cf6-4156-9232-3b1a87d12b36",
   "metadata": {},
   "outputs": [],
   "source": [
    "avg_model = polyclonal.PolyclonalAverage(models_df)\n",
    "\n",
    "print(f\"Saving the average model to {avg_pickle_file}\")\n",
    "with open(avg_pickle_file, \"wb\") as f:\n",
    "    pickle.dump(avg_model, f)"
   ]
  },
  {
   "cell_type": "markdown",
   "id": "a9d2d340-3b27-4c57-9284-bd7bc4fe5ef1",
   "metadata": {},
   "source": [
    "Get the `times_seen` (how many variants a mutation must be seen in) cutoff for the plots:"
   ]
  },
  {
   "cell_type": "code",
   "execution_count": null,
   "id": "406966b1-0061-42b1-b16d-60213acdce8f",
   "metadata": {},
   "outputs": [],
   "source": [
    "try:\n",
    "    times_seen = escape_plot_kwargs[\"addtl_slider_stats\"][\"times_seen\"]\n",
    "except KeyError:\n",
    "    times_seen = 1\n",
    "\n",
    "print(f\"Making plots for {times_seen=}\")"
   ]
  },
  {
   "cell_type": "markdown",
   "id": "d7753778-a218-4949-9981-1ae927798fac",
   "metadata": {},
   "source": [
    "Correlation of escape across different selections:"
   ]
  },
  {
   "cell_type": "code",
   "execution_count": null,
   "id": "45a8c3e7-0925-4518-8d8c-e0d5436259c8",
   "metadata": {},
   "outputs": [],
   "source": [
    "avg_model.mut_escape_corr_heatmap(min_times_seen=times_seen)"
   ]
  },
  {
   "cell_type": "markdown",
   "id": "d55e9665-02f6-4042-8f65-c6cb786b0f67",
   "metadata": {},
   "source": [
    "Neutralization curves against unmutated protein (which reflect the wildtype activities, Hill coefficients, and non-neutralizable fractions):"
   ]
  },
  {
   "cell_type": "code",
   "execution_count": null,
   "id": "df80173e-5d69-4bd3-bc94-c87324657451",
   "metadata": {},
   "outputs": [],
   "source": [
    "avg_model.curves_plot()"
   ]
  },
  {
   "cell_type": "markdown",
   "id": "5adc28a3-01fc-4a10-9844-a97be34393d2",
   "metadata": {},
   "source": [
    "Site line plots for the site values for each individual selection (model) in the average.\n",
    "This makes it easier to tell if one selection is an outlier before we plot the full averages below, and how correlated the selections are.\n",
    "Note the plot is interactive: you can mouseover points and change the site metric shown."
   ]
  },
  {
   "cell_type": "code",
   "execution_count": null,
   "id": "c6f448af-60a5-46fa-98a2-9671dd022bb6",
   "metadata": {},
   "outputs": [],
   "source": [
    "per_selection_site_escape = (\n",
    "    avg_model.mut_escape_site_summary_df_replicates(min_times_seen=times_seen)\n",
    "    .melt(\n",
    "        id_vars=[\"selection\", \"site\", \"wildtype\", \"epitope\"],\n",
    "        value_vars=[\"mean\", \"total positive\", \"total negative\"],\n",
    "        var_name=\"site statistic\",\n",
    "        value_name=\"site escape\",\n",
    "    )\n",
    "    .merge(\n",
    "        site_numbering_map[[\"site\", \"sequential_site\"]].assign(\n",
    "            site=lambda x: x[\"site\"].astype(type(avg_model.sites[0]))\n",
    "        ),\n",
    "        validate=\"many_to_one\",\n",
    "    )\n",
    ")\n",
    "\n",
    "if assay == \"receptor_affinity\":\n",
    "    # invert because negative escape means better affinity\n",
    "    per_selection_site_escape = per_selection_site_escape.assign(\n",
    "        **{\n",
    "            \"site escape\": lambda x: -x[\"site escape\"],\n",
    "            \"site statistic\": lambda x: x[\"site statistic\"].map(\n",
    "                lambda s: {\n",
    "                    \"mean\": \"mean\",\n",
    "                    \"total positive\": \"total negative\",\n",
    "                    \"total negative\": \"total positive\",\n",
    "                }[s]\n",
    "            ),\n",
    "        }\n",
    "    )\n",
    "\n",
    "site_statistic_selection = alt.selection_point(\n",
    "    fields=[\"site statistic\"],\n",
    "    bind=alt.binding_select(\n",
    "        name=\"site statistic\",\n",
    "        options=per_selection_site_escape[\"site statistic\"].unique(),\n",
    "    ),\n",
    "    value=\"mean\",\n",
    ")\n",
    "\n",
    "site_selection = alt.selection_point(fields=[\"site\"], on=\"mouseover\", empty=False)\n",
    "\n",
    "per_selection_site_escape_chart_base = (\n",
    "    alt.Chart(per_selection_site_escape)\n",
    "    .encode(\n",
    "        x=alt.X(\n",
    "            \"site\",\n",
    "            sort=alt.SortField(\"sequential_site\"),\n",
    "            axis=alt.Axis(labelOverlap=True),\n",
    "            scale=alt.Scale(nice=False, zero=False),\n",
    "        ),\n",
    "        y=alt.Y(\"site escape\", title=assay),\n",
    "        color=\"epitope\",\n",
    "        tooltip=[\n",
    "            \"site\",\n",
    "            alt.Tooltip(\"site escape\", format=\".2f\"),\n",
    "        ],\n",
    "    )\n",
    "    .properties(width=800, height=85)\n",
    "    .add_params(site_statistic_selection, site_selection)\n",
    "    .transform_filter(site_statistic_selection)\n",
    ")\n",
    "\n",
    "per_selection_site_escape_chart_lines = per_selection_site_escape_chart_base.mark_line(\n",
    "    size=0.75\n",
    ")\n",
    "\n",
    "per_selection_site_escape_chart_points = per_selection_site_escape_chart_base.encode(\n",
    "    size=alt.condition(site_selection, alt.value(75), alt.value(30)),\n",
    "    strokeWidth=alt.condition(site_selection, alt.value(2), alt.value(0)),\n",
    ").mark_circle(filled=True, stroke=\"orange\")\n",
    "\n",
    "per_selection_escape_chart = (\n",
    "    (per_selection_site_escape_chart_lines + per_selection_site_escape_chart_points)\n",
    "    .facet(\n",
    "        facet=alt.Facet(\n",
    "            \"selection\",\n",
    "            title=None,\n",
    "            header=alt.Header(labelPadding=0),\n",
    "        ),\n",
    "        columns=1,\n",
    "        spacing=5,\n",
    "    )\n",
    "    .configure_axis(grid=False)\n",
    ")\n",
    "\n",
    "per_selection_escape_chart"
   ]
  },
  {
   "cell_type": "markdown",
   "id": "5148ea2a-3a18-4cb1-87ef-a226fedfff0f",
   "metadata": {},
   "source": [
    "Plot and save the mutation effects for the average model:"
   ]
  },
  {
   "cell_type": "code",
   "execution_count": null,
   "id": "dc4340b5-dee0-4244-8507-c5b0bcc375bc",
   "metadata": {},
   "outputs": [],
   "source": [
    "# first build up arguments used to format plot\n",
    "escape_plot_kwargs = params[\"escape_plot_kwargs\"]\n",
    "plot_hide_stats = params[\"plot_hide_stats\"]\n",
    "\n",
    "if \"addtl_slider_stats\" not in escape_plot_kwargs:\n",
    "    escape_plot_kwargs[\"addtl_slider_stats\"] = {}\n",
    "if \"addtl_slider_stats_hide_not_filter\" not in escape_plot_kwargs:\n",
    "    escape_plot_kwargs[\"addtl_slider_stats_hide_not_filter\"] = []\n",
    "\n",
    "escape_plot_kwargs[\"df_to_merge\"] = []\n",
    "\n",
    "for stat, stat_d in plot_hide_stats.items():\n",
    "    escape_plot_kwargs[\"addtl_slider_stats\"][stat] = stat_d[\"init\"]\n",
    "    escape_plot_kwargs[\"addtl_slider_stats_hide_not_filter\"].append(stat)\n",
    "    merge_df = pd.read_csv(stat_d[\"csv\"]).rename(columns={stat_d[\"csv_col\"]: stat})\n",
    "    if \"min_filters\" in stat_d:\n",
    "        for col, col_min in stat_d[\"min_filters\"].items():\n",
    "            if col not in merge_df.columns:\n",
    "                raise ValueError(f\"{stat=} CSV lacks {col=}\\n{merge_df.columns=}\")\n",
    "            merge_df = merge_df[merge_df[col] >= col_min]\n",
    "    escape_plot_kwargs[\"df_to_merge\"].append(merge_df[[\"site\", \"mutant\", stat]])\n",
    "\n",
    "escape_plot_kwargs[\"df_to_merge\"].append(\n",
    "    site_numbering_map[[\"site\", \"sequential_site\", \"region\"]]\n",
    ")\n",
    "\n",
    "if \"init_n_models\" not in escape_plot_kwargs:\n",
    "    escape_plot_kwargs[\"init_n_models\"] = len(avg_model.models) // 2 + 1\n",
    "\n",
    "if assay == \"receptor_affinity\":\n",
    "    escape_plot_kwargs[\"scale_stat_col\"] = -1\n",
    "    escape_plot_kwargs[\"rename_stat_col\"] = \"receptor affinity\"\n",
    "\n",
    "print(f\"Writing mutation values to {effect_csv}\")\n",
    "effects_for_csv = avg_model.mut_escape_df_w_model_values.drop(\n",
    "    columns=[\"escape_std\", \"escape_min_magnitude\"]\n",
    ")\n",
    "for c in [\"escape_mean\", \"escape_median\"] + params[\"selections\"]:\n",
    "    if assay == \"receptor_affinity\":\n",
    "        # invert as negative means more affinity, and rename\n",
    "        effects_for_csv[c] = -effects_for_csv[c]\n",
    "        if c in {\"escape_mean\", \"escape_median\"}:\n",
    "            effects_for_csv = effects_for_csv.rename(\n",
    "                columns={c: c.replace(\"escape_\", \"affinity_\")}\n",
    "            )\n",
    "effects_for_csv.to_csv(effect_csv, index=False, float_format=\"%.4g\")\n",
    "\n",
    "escape_chart = avg_model.mut_escape_plot(**escape_plot_kwargs)\n",
    "print(f\"Writing chart to {effect_html}\")\n",
    "escape_chart.save(effect_html)\n",
    "\n",
    "display(escape_chart)"
   ]
  },
  {
   "cell_type": "markdown",
   "id": "318f0be9-f7f7-4930-a86d-5c4b43171cd6",
   "metadata": {},
   "source": [
    "Plot and save the predicted change in ICXX induced by each mutation:"
   ]
  },
  {
   "cell_type": "code",
   "execution_count": null,
   "id": "95c0e95b-b776-45e2-b23e-70d9b2144dbc",
   "metadata": {},
   "outputs": [],
   "source": [
    "icXX = params[\"icXX\"]\n",
    "print(f\"Getting predicted changes in IC{icXX}\")\n",
    "\n",
    "icXX_col = f\"IC{icXX}\"\n",
    "log_fold_change_icXX_col = f\"log2 fold change {icXX_col}\"\n",
    "\n",
    "print(f\"Writing changes in ICXX to {icXX_csv}\")\n",
    "icXX_for_csv = avg_model.mut_icXX_df_w_model_values(\n",
    "    x=icXX / 100.0,\n",
    "    icXX_col=icXX_col,\n",
    "    log_fold_change_icXX_col=log_fold_change_icXX_col,\n",
    ").drop(columns=[log_fold_change_icXX_col + s for s in [\" min_magnitude\", \" std\"]])\n",
    "for c in [log_fold_change_icXX_col + s for s in [\" mean\", \" median\"]] + params[\n",
    "    \"selections\"\n",
    "]:\n",
    "    if assay == \"receptor_affinity\":\n",
    "        # invert as negative means more affinity\n",
    "        icXX_for_csv[c] = -icXX_for_csv[c]\n",
    "icXX_for_csv.to_csv(icXX_csv, index=False, float_format=\"%.4g\")\n",
    "\n",
    "if assay == \"receptor_affinity\" and \"rename_stat_col\" in escape_plot_kwargs:\n",
    "    del escape_plot_kwargs[\"rename_stat_col\"]\n",
    "\n",
    "icXX_chart = avg_model.mut_icXX_plot(\n",
    "    x=icXX / 100.0,\n",
    "    icXX_col=icXX_col,\n",
    "    log_fold_change_icXX_col=log_fold_change_icXX_col,\n",
    "    **escape_plot_kwargs,\n",
    ")\n",
    "print(f\"Writing ICXX chart to {icXX_html}\")\n",
    "icXX_chart.save(icXX_html)\n",
    "\n",
    "display(icXX_chart)"
   ]
  },
  {
   "cell_type": "code",
   "execution_count": null,
   "id": "53c7b048-8bcb-4e0b-9588-d019549a0a26",
   "metadata": {},
   "outputs": [],
   "source": []
  }
 ],
 "metadata": {
  "kernelspec": {
   "display_name": "Python 3 (ipykernel)",
   "language": "python",
   "name": "python3"
  },
  "language_info": {
   "codemirror_mode": {
    "name": "ipython",
    "version": 3
   },
   "file_extension": ".py",
   "mimetype": "text/x-python",
   "name": "python",
   "nbconvert_exporter": "python",
   "pygments_lexer": "ipython3",
   "version": "3.11.4"
  }
 },
 "nbformat": 4,
 "nbformat_minor": 5
}
