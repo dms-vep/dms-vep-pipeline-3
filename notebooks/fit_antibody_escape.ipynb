{
 "cells": [
  {
   "cell_type": "markdown",
   "id": "cd032799-f956-4da8-baad-43dff0af1046",
   "metadata": {},
   "source": [
    "# Fit `polyclonal` model for antibody.\n",
    "\n",
    "Import Python modules."
   ]
  },
  {
   "cell_type": "code",
   "execution_count": 1,
   "id": "6653d04b-720e-4959-a8d8-006ce97190b6",
   "metadata": {
    "execution": {
     "iopub.execute_input": "2023-07-14T23:56:48.805422Z",
     "iopub.status.busy": "2023-07-14T23:56:48.804098Z",
     "iopub.status.idle": "2023-07-14T23:56:57.162410Z",
     "shell.execute_reply": "2023-07-14T23:56:57.161434Z",
     "shell.execute_reply.started": "2023-07-14T23:56:48.805388Z"
    }
   },
   "outputs": [],
   "source": [
    "import altair as alt\n",
    "\n",
    "import polyclonal\n",
    "\n",
    "import pandas as pd"
   ]
  },
  {
   "cell_type": "markdown",
   "id": "0276731c-0a6f-4820-9edb-b61ab1e2ace8",
   "metadata": {},
   "source": [
    "This notebook is parameterized by `papermill`.\n",
    "The next cell is tagged as `parameters` to get the passed parameters."
   ]
  },
  {
   "cell_type": "code",
   "execution_count": 2,
   "id": "9ddd6a5a-5e55-4386-872b-ad9ce2af3d19",
   "metadata": {
    "editable": true,
    "execution": {
     "iopub.execute_input": "2023-07-14T23:56:57.170279Z",
     "iopub.status.busy": "2023-07-14T23:56:57.169916Z",
     "iopub.status.idle": "2023-07-14T23:56:57.173469Z",
     "shell.execute_reply": "2023-07-14T23:56:57.172956Z",
     "shell.execute_reply.started": "2023-07-14T23:56:57.170248Z"
    },
    "slideshow": {
     "slide_type": ""
    },
    "tags": [
     "parameters"
    ]
   },
   "outputs": [],
   "source": [
    "# this cell is tagged parameters for `papermill` parameterization\n",
    "selection = None\n",
    "params = None"
   ]
  },
  {
   "cell_type": "code",
   "execution_count": 3,
   "id": "49a310f2-a9de-4f4d-8cf1-5225e573c9eb",
   "metadata": {
    "execution": {
     "iopub.execute_input": "2023-07-14T23:56:57.176589Z",
     "iopub.status.busy": "2023-07-14T23:56:57.176365Z",
     "iopub.status.idle": "2023-07-14T23:56:57.180578Z",
     "shell.execute_reply": "2023-07-14T23:56:57.180113Z",
     "shell.execute_reply.started": "2023-07-14T23:56:57.176569Z"
    }
   },
   "outputs": [],
   "source": [
    "# Parameters\n",
    "params = {\n",
    "    \"antibody_samples\": {\n",
    "        \"LibA-220210-REGN10933-0.15-1\": {\"concentration\": 0.15, \"use_in_fit\": True},\n",
    "        \"LibA-220210-REGN10933-1.39-1\": {\"concentration\": 1.39, \"use_in_fit\": True},\n",
    "        \"LibA-220210-REGN10933-5.58-1\": {\"concentration\": 5.58, \"use_in_fit\": True},\n",
    "    },\n",
    "    \"neut_standard_name\": \"neut_standard\",\n",
    "    \"no_antibody_sample\": \"LibA-220210-no_antibody-1\",\n",
    "    \"prob_escape_filters\": {\n",
    "        \"min_antibody_counts\": 10,\n",
    "        \"min_antibody_frac\": 0.005,\n",
    "        \"min_neut_standard_count\": 1000,\n",
    "        \"min_neut_standard_frac\": 0.001,\n",
    "        \"min_no_antibody_counts\": 5,\n",
    "        \"min_no_antibody_frac\": \"5e-05\",\n",
    "    },\n",
    "}\n",
    "selection = \"LibA-220210-REGN10933-1\"\n",
    "\n",
    "import os\n",
    "os.chdir(\"../test_example\")"
   ]
  },
  {
   "cell_type": "markdown",
   "id": "e8e2f3dc-c4c6-45ad-bb63-d420585e4649",
   "metadata": {},
   "source": [
    "## Read and process data\n",
    "Convert the antibody samples into a data frame:"
   ]
  },
  {
   "cell_type": "code",
   "execution_count": 4,
   "id": "fa76c6f9-e58b-41ca-9140-29e4bb868dcc",
   "metadata": {
    "execution": {
     "iopub.execute_input": "2023-07-14T23:56:57.183780Z",
     "iopub.status.busy": "2023-07-14T23:56:57.183520Z",
     "iopub.status.idle": "2023-07-14T23:56:57.188876Z",
     "shell.execute_reply": "2023-07-14T23:56:57.188024Z",
     "shell.execute_reply.started": "2023-07-14T23:56:57.183758Z"
    }
   },
   "outputs": [],
   "source": [
    "antibody_samples = (\n",
    "    pd.DataFrame.from_dict(params[\"antibody_samples\"], orient=\"index\")\n",
    "    .reset_index(names=\"sample\")\n",
    ")"
   ]
  },
  {
   "cell_type": "markdown",
   "id": "b1441ef3-8166-4a11-9611-c443bf37173e",
   "metadata": {},
   "source": [
    "Get other parameters:"
   ]
  },
  {
   "cell_type": "code",
   "execution_count": 5,
   "id": "68755860-59a5-4226-a4a1-91c5f4d3bd43",
   "metadata": {
    "execution": {
     "iopub.execute_input": "2023-07-14T23:56:57.192157Z",
     "iopub.status.busy": "2023-07-14T23:56:57.191898Z",
     "iopub.status.idle": "2023-07-14T23:56:57.196438Z",
     "shell.execute_reply": "2023-07-14T23:56:57.195750Z",
     "shell.execute_reply.started": "2023-07-14T23:56:57.192135Z"
    }
   },
   "outputs": [],
   "source": [
    "prob_escape_filters = params[\"prob_escape_filters\"]"
   ]
  },
  {
   "cell_type": "markdown",
   "id": "7934ccf4-c133-4961-bb69-ee2bf16c9f5d",
   "metadata": {},
   "source": [
    "Read the neut standard fracs:"
   ]
  },
  {
   "cell_type": "code",
   "execution_count": 6,
   "id": "1ff834ed-5f84-4ee1-89cb-a8f75acf00d9",
   "metadata": {
    "execution": {
     "iopub.execute_input": "2023-07-14T23:56:57.200131Z",
     "iopub.status.busy": "2023-07-14T23:56:57.199519Z",
     "iopub.status.idle": "2023-07-14T23:56:57.243866Z",
     "shell.execute_reply": "2023-07-14T23:56:57.243039Z",
     "shell.execute_reply.started": "2023-07-14T23:56:57.200093Z"
    }
   },
   "outputs": [],
   "source": [
    "neut_standard_fracs = pd.concat(\n",
    "    [\n",
    "        pd.read_csv(\n",
    "            f\"results/antibody_escape/{selection}/{sample}_neut_standard_fracs.csv\"\n",
    "        ).assign(sample=sample)\n",
    "        for sample in antibody_samples[\"sample\"]\n",
    "    ],\n",
    "    ignore_index=True,\n",
    ").merge(antibody_samples, validate=\"one_to_one\", on=\"sample\")"
   ]
  },
  {
   "cell_type": "markdown",
   "id": "49c261ed-ac5d-48ff-a85f-8efbd7421e6f",
   "metadata": {},
   "source": [
    "Read the probabilities (fraction) escape for each variant:"
   ]
  },
  {
   "cell_type": "code",
   "execution_count": 7,
   "id": "bd0a0bb4-e7ca-470c-b656-20820bf3a08a",
   "metadata": {
    "execution": {
     "iopub.execute_input": "2023-07-14T23:56:57.247043Z",
     "iopub.status.busy": "2023-07-14T23:56:57.246857Z",
     "iopub.status.idle": "2023-07-14T23:56:57.293125Z",
     "shell.execute_reply": "2023-07-14T23:56:57.292496Z",
     "shell.execute_reply.started": "2023-07-14T23:56:57.247023Z"
    }
   },
   "outputs": [],
   "source": [
    "prob_escape = pd.concat(\n",
    "    [\n",
    "        pd.read_csv(\n",
    "            f\"results/antibody_escape/{selection}/{sample}_prob_escape.csv\",\n",
    "            keep_default_na=False,\n",
    "            na_values=\"nan\",\n",
    "        ).assign(sample=sample)\n",
    "        for sample in antibody_samples[\"sample\"]\n",
    "    ],\n",
    "    ignore_index=True,\n",
    ").merge(antibody_samples, validate=\"many_to_one\", on=\"sample\")"
   ]
  },
  {
   "cell_type": "markdown",
   "id": "e72fd9de-8e6c-4009-a2ee-d8eb67ff6a18",
   "metadata": {},
   "source": [
    "## Plot the neutralization standard fractions"
   ]
  },
  {
   "cell_type": "markdown",
   "id": "66e20527-c5d4-411e-b5d9-90b30fc1d50b",
   "metadata": {
    "execution": {
     "iopub.execute_input": "2023-07-14T23:24:52.535152Z",
     "iopub.status.busy": "2023-07-14T23:24:52.534646Z",
     "iopub.status.idle": "2023-07-14T23:24:52.547562Z",
     "shell.execute_reply": "2023-07-14T23:24:52.546970Z",
     "shell.execute_reply.started": "2023-07-14T23:24:52.535120Z"
    }
   },
   "source": [
    "Plot the neutralization standard fractions for each sample:"
   ]
  },
  {
   "cell_type": "code",
   "execution_count": 8,
   "id": "ccc24e4c-e106-4bea-aba5-97eed3dbb61e",
   "metadata": {
    "execution": {
     "iopub.execute_input": "2023-07-14T23:56:57.296352Z",
     "iopub.status.busy": "2023-07-14T23:56:57.296126Z",
     "iopub.status.idle": "2023-07-14T23:56:57.363526Z",
     "shell.execute_reply": "2023-07-14T23:56:57.362990Z",
     "shell.execute_reply.started": "2023-07-14T23:56:57.296332Z"
    }
   },
   "outputs": [
    {
     "data": {
      "text/html": [
       "\n",
       "<style>\n",
       "  #altair-viz-483a7d4d7975435e9eeaa71415391c47.vega-embed {\n",
       "    width: 100%;\n",
       "    display: flex;\n",
       "  }\n",
       "\n",
       "  #altair-viz-483a7d4d7975435e9eeaa71415391c47.vega-embed details,\n",
       "  #altair-viz-483a7d4d7975435e9eeaa71415391c47.vega-embed details summary {\n",
       "    position: relative;\n",
       "  }\n",
       "</style>\n",
       "<div id=\"altair-viz-483a7d4d7975435e9eeaa71415391c47\"></div>\n",
       "<script type=\"text/javascript\">\n",
       "  var VEGA_DEBUG = (typeof VEGA_DEBUG == \"undefined\") ? {} : VEGA_DEBUG;\n",
       "  (function(spec, embedOpt){\n",
       "    let outputDiv = document.currentScript.previousElementSibling;\n",
       "    if (outputDiv.id !== \"altair-viz-483a7d4d7975435e9eeaa71415391c47\") {\n",
       "      outputDiv = document.getElementById(\"altair-viz-483a7d4d7975435e9eeaa71415391c47\");\n",
       "    }\n",
       "    const paths = {\n",
       "      \"vega\": \"https://cdn.jsdelivr.net/npm/vega@5?noext\",\n",
       "      \"vega-lib\": \"https://cdn.jsdelivr.net/npm/vega-lib?noext\",\n",
       "      \"vega-lite\": \"https://cdn.jsdelivr.net/npm/vega-lite@5.8.0?noext\",\n",
       "      \"vega-embed\": \"https://cdn.jsdelivr.net/npm/vega-embed@6?noext\",\n",
       "    };\n",
       "\n",
       "    function maybeLoadScript(lib, version) {\n",
       "      var key = `${lib.replace(\"-\", \"\")}_version`;\n",
       "      return (VEGA_DEBUG[key] == version) ?\n",
       "        Promise.resolve(paths[lib]) :\n",
       "        new Promise(function(resolve, reject) {\n",
       "          var s = document.createElement('script');\n",
       "          document.getElementsByTagName(\"head\")[0].appendChild(s);\n",
       "          s.async = true;\n",
       "          s.onload = () => {\n",
       "            VEGA_DEBUG[key] = version;\n",
       "            return resolve(paths[lib]);\n",
       "          };\n",
       "          s.onerror = () => reject(`Error loading script: ${paths[lib]}`);\n",
       "          s.src = paths[lib];\n",
       "        });\n",
       "    }\n",
       "\n",
       "    function showError(err) {\n",
       "      outputDiv.innerHTML = `<div class=\"error\" style=\"color:red;\">${err}</div>`;\n",
       "      throw err;\n",
       "    }\n",
       "\n",
       "    function displayChart(vegaEmbed) {\n",
       "      vegaEmbed(outputDiv, spec, embedOpt)\n",
       "        .catch(err => showError(`Javascript Error: ${err.message}<br>This usually means there's a typo in your chart specification. See the javascript console for the full traceback.`));\n",
       "    }\n",
       "\n",
       "    if(typeof define === \"function\" && define.amd) {\n",
       "      requirejs.config({paths});\n",
       "      require([\"vega-embed\"], displayChart, err => showError(`Error loading script: ${err.message}`));\n",
       "    } else {\n",
       "      maybeLoadScript(\"vega\", \"5\")\n",
       "        .then(() => maybeLoadScript(\"vega-lite\", \"5.8.0\"))\n",
       "        .then(() => maybeLoadScript(\"vega-embed\", \"6\"))\n",
       "        .catch(showError)\n",
       "        .then(() => displayChart(vegaEmbed));\n",
       "    }\n",
       "  })({\"config\": {\"view\": {\"continuousWidth\": 300, \"continuousHeight\": 300}, \"axis\": {\"labelLimit\": 500}}, \"data\": {\"name\": \"data-6a8bd06f148a6eb2bf9cb2cdd132642e\"}, \"mark\": {\"type\": \"point\", \"filled\": true, \"size\": 50}, \"encoding\": {\"color\": {\"field\": \"sample type\", \"scale\": {\"range\": [\"#1F77B4FF\", \"#FF7F0EFF\"]}, \"type\": \"nominal\"}, \"fillOpacity\": {\"field\": \"use_in_fit\", \"scale\": {\"domain\": [true, false], \"range\": [1, 0]}, \"type\": \"nominal\"}, \"shape\": {\"field\": \"sample type\", \"title\": \"sample type (filled if used in fit)\", \"type\": \"nominal\"}, \"stroke\": {\"field\": \"sample type\", \"scale\": {\"range\": [\"#1F77B4FF\", \"#FF7F0EFF\"]}, \"type\": \"nominal\"}, \"tooltip\": [{\"field\": \"sample\", \"type\": \"nominal\"}, {\"field\": \"concentration\", \"format\": \".3g\", \"type\": \"quantitative\"}, {\"field\": \"neutralization standard fraction\", \"format\": \".3g\", \"type\": \"quantitative\"}], \"x\": {\"field\": \"neutralization standard fraction\", \"scale\": {\"constant\": 0.04, \"domainMax\": 1, \"type\": \"symlog\"}, \"type\": \"quantitative\"}, \"y\": {\"field\": \"sample\", \"sort\": {\"field\": \"concentration\"}, \"title\": null, \"type\": \"nominal\"}}, \"title\": \"Neutralization standard fractions for LibA-220210-REGN10933-1\", \"$schema\": \"https://vega.github.io/schema/vega-lite/v5.8.0.json\", \"datasets\": {\"data-6a8bd06f148a6eb2bf9cb2cdd132642e\": [{\"sample\": \"LibA-220210-REGN10933-0.15-1\", \"use_in_fit\": false, \"concentration\": 0.15, \"sample type\": \"antibody\", \"neutralization standard fraction\": 0.1288}, {\"sample\": \"LibA-220210-REGN10933-1.39-1\", \"use_in_fit\": true, \"concentration\": 1.39, \"sample type\": \"antibody\", \"neutralization standard fraction\": 0.7196}, {\"sample\": \"LibA-220210-REGN10933-5.58-1\", \"use_in_fit\": true, \"concentration\": 5.58, \"sample type\": \"antibody\", \"neutralization standard fraction\": 0.8127}, {\"sample\": \"LibA-220210-REGN10933-0.15-1\", \"use_in_fit\": false, \"concentration\": 0.15, \"sample type\": \"no-antibody\", \"neutralization standard fraction\": 0.02227}, {\"sample\": \"LibA-220210-REGN10933-1.39-1\", \"use_in_fit\": true, \"concentration\": 1.39, \"sample type\": \"no-antibody\", \"neutralization standard fraction\": 0.02227}, {\"sample\": \"LibA-220210-REGN10933-5.58-1\", \"use_in_fit\": true, \"concentration\": 5.58, \"sample type\": \"no-antibody\", \"neutralization standard fraction\": 0.02227}]}}, {\"mode\": \"vega-lite\"});\n",
       "</script>"
      ],
      "text/plain": [
       "alt.Chart(...)"
      ]
     },
     "execution_count": 8,
     "metadata": {},
     "output_type": "execute_result"
    }
   ],
   "source": [
    "neut_standard_fracs_chart = (\n",
    "    alt.Chart(\n",
    "        neut_standard_fracs\n",
    "        .rename(columns={\"antibody_frac\": \"antibody\", \"no-antibody_frac\": \"no-antibody\"})\n",
    "        .melt(\n",
    "            id_vars=[\"sample\", \"use_in_fit\", \"concentration\"],\n",
    "            value_vars=[\"antibody\", \"no-antibody\"],\n",
    "            var_name=\"sample type\",\n",
    "            value_name=\"neutralization standard fraction\",\n",
    "        )\n",
    "        .assign(use_in_fit=lambda x: x[\"use_in_fit\"].where(x[\"concentration\"] > 1, False))\n",
    "    )\n",
    "    .encode(\n",
    "        x=alt.X(\n",
    "            \"neutralization standard fraction\",\n",
    "            scale=alt.Scale(type=\"symlog\", constant=0.04, domainMax=1),\n",
    "        ),\n",
    "        y=alt.Y(\"sample\", sort=alt.SortField(\"concentration\"), title=None),\n",
    "        shape=alt.Shape(\"sample type\", title=\"sample type (filled if used in fit)\"),\n",
    "        stroke=alt.Color(\"sample type\", scale=alt.Scale(range=[\"#1F77B4FF\", \"#FF7F0EFF\"])),\n",
    "        color=alt.Color(\"sample type\", scale=alt.Scale(range=[\"#1F77B4FF\", \"#FF7F0EFF\"])),\n",
    "        fillOpacity=alt.Opacity(\n",
    "            \"use_in_fit\",\n",
    "            scale=alt.Scale(domain=[True, False], range=[1, 0]),\n",
    "        ),\n",
    "        tooltip=[\n",
    "            \"sample\",\n",
    "            alt.Tooltip(\"concentration\", format=\".3g\"),\n",
    "            alt.Tooltip(\"neutralization standard fraction\", format=\".3g\"),\n",
    "        ],\n",
    "    )\n",
    "    .mark_point(filled=True, size=50)\n",
    "    .configure_axis(labelLimit=500)\n",
    "    .properties(title=f\"Neutralization standard fractions for {selection}\")\n",
    ")\n",
    "\n",
    "neut_standard_fracs_chart"
   ]
  },
  {
   "cell_type": "markdown",
   "id": "b801ab74-5214-4008-8a40-99b9cbeed763",
   "metadata": {
    "execution": {
     "iopub.execute_input": "2023-07-14T23:43:46.449840Z",
     "iopub.status.busy": "2023-07-14T23:43:46.449268Z",
     "iopub.status.idle": "2023-07-14T23:43:46.455263Z",
     "shell.execute_reply": "2023-07-14T23:43:46.454391Z",
     "shell.execute_reply.started": "2023-07-14T23:43:46.449800Z"
    }
   },
   "source": [
    "Make sure all samples used in the fit have enough neutralization standard counts and fraction:"
   ]
  },
  {
   "cell_type": "code",
   "execution_count": 9,
   "id": "d0ac90d9-7efd-43a6-a5eb-00476728e025",
   "metadata": {
    "execution": {
     "iopub.execute_input": "2023-07-14T23:56:57.366188Z",
     "iopub.status.busy": "2023-07-14T23:56:57.366031Z",
     "iopub.status.idle": "2023-07-14T23:56:57.375960Z",
     "shell.execute_reply": "2023-07-14T23:56:57.375345Z",
     "shell.execute_reply.started": "2023-07-14T23:56:57.366172Z"
    }
   },
   "outputs": [
    {
     "name": "stdout",
     "output_type": "stream",
     "text": [
      "Adequate neut_standard_count of >= 1000.0\n",
      "Adequate neut_standard_frac of >= 0.001\n"
     ]
    }
   ],
   "source": [
    "for prop in [\"count\", \"frac\"]:\n",
    "    minval = float(prob_escape_filters[f\"min_neut_standard_{prop}\"])\n",
    "    minval = float(minval)\n",
    "    if all(\n",
    "        (neut_standard_fracs.query(\"use_in_fit\")[f\"{stype}_{prop}\"] >= minval).all()\n",
    "        for stype in [\"antibody\", \"no-antibody\"]\n",
    "    ):\n",
    "        print(f\"Adequate neut_standard_{prop} of >= {minval}\")\n",
    "    else:\n",
    "        raise ValueError(f\"Inadequate neut_standard_{prop} < {minval}\\n{neut_standard_fracs}\")"
   ]
  },
  {
   "cell_type": "code",
   "execution_count": 10,
   "id": "b7fa076c-143e-4838-9187-86f6fcd1d2a6",
   "metadata": {
    "execution": {
     "iopub.execute_input": "2023-07-14T23:56:57.378541Z",
     "iopub.status.busy": "2023-07-14T23:56:57.378324Z",
     "iopub.status.idle": "2023-07-14T23:56:57.382676Z",
     "shell.execute_reply": "2023-07-14T23:56:57.382121Z",
     "shell.execute_reply.started": "2023-07-14T23:56:57.378522Z"
    }
   },
   "outputs": [
    {
     "data": {
      "text/plain": [
       "<function all(iterable, /)>"
      ]
     },
     "execution_count": 10,
     "metadata": {},
     "output_type": "execute_result"
    }
   ],
   "source": [
    "all"
   ]
  },
  {
   "cell_type": "code",
   "execution_count": null,
   "id": "ff19a134-fdea-42ae-9a06-ea52ffe18403",
   "metadata": {},
   "outputs": [],
   "source": []
  }
 ],
 "metadata": {
  "kernelspec": {
   "display_name": "Python 3 (ipykernel)",
   "language": "python",
   "name": "python3"
  },
  "language_info": {
   "codemirror_mode": {
    "name": "ipython",
    "version": 3
   },
   "file_extension": ".py",
   "mimetype": "text/x-python",
   "name": "python",
   "nbconvert_exporter": "python",
   "pygments_lexer": "ipython3",
   "version": "3.11.4"
  }
 },
 "nbformat": 4,
 "nbformat_minor": 5
}
