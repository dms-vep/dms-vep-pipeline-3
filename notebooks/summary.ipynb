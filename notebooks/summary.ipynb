{
 "cells": [
  {
   "cell_type": "markdown",
   "id": "a616ff59-8358-45c1-8c35-87fbae29d675",
   "metadata": {},
   "source": [
    "# Summarize results across assays\n",
    "This notebook makes summarizes the results across assays."
   ]
  },
  {
   "cell_type": "code",
   "execution_count": null,
   "id": "42e0d6c9-4481-478f-bd7b-5f0974b1169e",
   "metadata": {},
   "outputs": [],
   "source": [
    "import functools\n",
    "import operator\n",
    "import re\n",
    "\n",
    "import altair as alt\n",
    "\n",
    "import pandas as pd\n",
    "\n",
    "import polyclonal.alphabets\n",
    "from polyclonal.plot import color_gradient_hex\n",
    "\n",
    "_ = alt.data_transformers.disable_max_rows()"
   ]
  },
  {
   "cell_type": "markdown",
   "id": "49f7c160-65ac-4023-bb51-d21ffc56a94c",
   "metadata": {},
   "source": [
    "The next cell is tagged as `parameters` for `papermill` parameterization:"
   ]
  },
  {
   "cell_type": "code",
   "execution_count": null,
   "id": "48308e90-bd88-4e79-8024-b3a86a5c0224",
   "metadata": {
    "editable": true,
    "slideshow": {
     "slide_type": ""
    },
    "tags": [
     "parameters"
    ]
   },
   "outputs": [],
   "source": [
    "site_numbering_map_csv = None\n",
    "chart_overlaid = None\n",
    "chart_faceted = None\n",
    "csv_file = None\n",
    "config = None\n",
    "input_csvs = None"
   ]
  },
  {
   "cell_type": "code",
   "execution_count": null,
   "id": "4ff7fad6-0f8a-4bad-b30e-28b51451d631",
   "metadata": {
    "papermill": {
     "duration": 0.00472,
     "end_time": "2023-08-27T18:31:39.236443",
     "exception": false,
     "start_time": "2023-08-27T18:31:39.231723",
     "status": "completed"
    },
    "tags": [
     "injected-parameters"
    ]
   },
   "outputs": [],
   "source": [
    "# Parameters\n",
    "config = {\n",
    "    \"min_times_seen\": 3,\n",
    "    \"min_frac_models\": 1,\n",
    "    \"alphabet\": [\n",
    "        \"A\",\n",
    "        \"C\",\n",
    "        \"D\",\n",
    "        \"E\",\n",
    "        \"F\",\n",
    "        \"G\",\n",
    "        \"H\",\n",
    "        \"I\",\n",
    "        \"K\",\n",
    "        \"L\",\n",
    "        \"M\",\n",
    "        \"N\",\n",
    "        \"P\",\n",
    "        \"Q\",\n",
    "        \"R\",\n",
    "        \"S\",\n",
    "        \"T\",\n",
    "        \"V\",\n",
    "        \"W\",\n",
    "        \"Y\",\n",
    "        \"-\",\n",
    "    ],\n",
    "    \"init_floor_escape_at_zero\": True,\n",
    "    \"init_site_escape_stat\": \"mean\",\n",
    "    \"antibody_escape\": {\n",
    "        \"monoclonal antibodies\": {\n",
    "            \"stat\": \"escape_median\",\n",
    "            \"negative_color\": \"#0072B2\",\n",
    "            \"positive_color\": \"#E69F00\",\n",
    "            \"max_at_least\": 1,\n",
    "            \"min_at_least\": -1,\n",
    "            \"antibody_list\": [\"REGN10933\", \"S2M11\"],\n",
    "        }\n",
    "    },\n",
    "    \"func_effects\": {\n",
    "        \"spike-mediated infection\": {\n",
    "            \"condition\": \"293T_ACE2_entry\",\n",
    "            \"effect_type\": \"func_effects\",\n",
    "            \"positive_color\": \"#009E73\",\n",
    "            \"negative_color\": \"#CC79A7\",\n",
    "            \"max_at_least\": 1,\n",
    "            \"min_at_least\": 0,\n",
    "        }\n",
    "    },\n",
    "    \"other_assays\": {\n",
    "        \"receptor_affinity\": {\n",
    "            \"mock receptor affinity\": {\n",
    "                \"condition\": \"pretending_S2M11_is_receptor\",\n",
    "                \"stat\": \"receptor affinity_median\",\n",
    "                \"positive_color\": \"#FF715B\",\n",
    "                \"negative_color\": \"#F3C13A\",\n",
    "                \"max_at_least\": 1,\n",
    "                \"min_at_least\": 0,\n",
    "            }\n",
    "        }\n",
    "    },\n",
    "}\n",
    "input_csvs = {\n",
    "    \"antibody_escape REGN10933\": \"results/antibody_escape/averages/REGN10933_mut_effect.csv\",\n",
    "    \"antibody_escape S2M11\": \"results/antibody_escape/averages/S2M11_mut_effect.csv\",\n",
    "    \"func_effects 293T_ACE2_entry\": \"results/func_effects/averages/293T_ACE2_entry_func_effects.csv\",\n",
    "    \"receptor_affinity pretending_S2M11_is_receptor\": \"results/receptor_affinity/averages/pretending_S2M11_is_receptor_mut_effect.csv\",\n",
    "}\n",
    "site_numbering_map_csv = \"data/site_numbering_map.csv\"\n",
    "chart_faceted = \"results/summaries/summary_faceted_nolegend.html\"\n",
    "chart_overlaid = \"results/summaries/summary_overlaid_nolegend.html\"\n",
    "csv_file = \"results/summaries/summary.csv\"\n"
   ]
  }
 ],
 "metadata": {
  "kernelspec": {
   "display_name": "Python 3 (ipykernel)",
   "language": "python",
   "name": "python3"
  },
  "language_info": {
   "codemirror_mode": {
    "name": "ipython",
    "version": 3
   },
   "file_extension": ".py",
   "mimetype": "text/x-python",
   "name": "python",
   "nbconvert_exporter": "python",
   "pygments_lexer": "ipython3",
   "version": "3.11.4"
  }
 },
 "nbformat": 4,
 "nbformat_minor": 5
}
